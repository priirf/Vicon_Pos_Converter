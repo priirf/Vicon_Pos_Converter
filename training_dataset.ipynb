{
 "cells": [
  {
   "cell_type": "markdown",
   "metadata": {},
   "source": [
    "### **Read Data**"
   ]
  },
  {
   "cell_type": "code",
   "execution_count": 1,
   "metadata": {},
   "outputs": [],
   "source": [
    "%load_ext autoreload\n",
    "%autoreload 2\n",
    "import sys\n",
    "import os\n",
    "# Laptop GPU is busy with rendering screen ...\n",
    "os.environ[\"CUDA_VISIBLE_DEVICES\"] = \"-1\"  \n",
    "import pickle\n",
    "import glob\n",
    "import pandas as pd\n",
    "import numpy as np\n",
    "from tqdm.notebook import tqdm\n",
    "from matplotlib import pyplot as plt\n",
    "from matplotlib.animation import FuncAnimation"
   ]
  },
  {
   "cell_type": "code",
   "execution_count": 2,
   "metadata": {},
   "outputs": [
    {
     "name": "stdout",
     "output_type": "stream",
     "text": [
      "/media/irfan-flw/DATA/Arbeit/6GEM/Program_Development/6GEM_Dataset/Dataset_Sensor_Floor_Final/24102022\n",
      "Loading: /media/irfan-flw/DATA/Arbeit/6GEM/Program_Development/6GEM_Dataset/Dataset_Sensor_Floor_Final/24102022/train/run1_diagonal.csv\n",
      "Loading: /media/irfan-flw/DATA/Arbeit/6GEM/Program_Development/6GEM_Dataset/Dataset_Sensor_Floor_Final/24102022/train/run1_horizontal.csv\n",
      "Loading: /media/irfan-flw/DATA/Arbeit/6GEM/Program_Development/6GEM_Dataset/Dataset_Sensor_Floor_Final/24102022/train/run1_vertical.csv\n",
      "Loading: /media/irfan-flw/DATA/Arbeit/6GEM/Program_Development/6GEM_Dataset/Dataset_Sensor_Floor_Final/24102022/train/run2_diagonal.csv\n",
      "Loading: /media/irfan-flw/DATA/Arbeit/6GEM/Program_Development/6GEM_Dataset/Dataset_Sensor_Floor_Final/24102022/train/run2_horizontal.csv\n",
      "Loading: /media/irfan-flw/DATA/Arbeit/6GEM/Program_Development/6GEM_Dataset/Dataset_Sensor_Floor_Final/24102022/train/run2_vertical.csv\n",
      "Loading: /media/irfan-flw/DATA/Arbeit/6GEM/Program_Development/6GEM_Dataset/Dataset_Sensor_Floor_Final/24102022/train/run3_diagonal.csv\n",
      "Loading: /media/irfan-flw/DATA/Arbeit/6GEM/Program_Development/6GEM_Dataset/Dataset_Sensor_Floor_Final/24102022/train/run3_horizontal.csv\n",
      "Loading: /media/irfan-flw/DATA/Arbeit/6GEM/Program_Development/6GEM_Dataset/Dataset_Sensor_Floor_Final/24102022/train/run3_vertical.csv\n",
      "Loading: /media/irfan-flw/DATA/Arbeit/6GEM/Program_Development/6GEM_Dataset/Dataset_Sensor_Floor_Final/24102022/train/run4_random.csv\n"
     ]
    }
   ],
   "source": [
    "#data_dir = '../../Sensorfloors/summerschool2020/Robot_Data/train/*'\n",
    "\n",
    "\n",
    "path_dataset = '/media/irfan-flw/DATA/Arbeit/6GEM/Program_Development/6GEM_Dataset/Dataset_Sensor_Floor_Final/24102022/'\n",
    "\n",
    "#data_dir = '/media/irfan-flw/DATA/Arbeit/6GEM/Program_Development/6GEM_Dataset/Dataset_Sensor_Floor_Final/30092022/train/*'\n",
    "\n",
    "\n",
    "os.chdir(path_dataset)\n",
    "\n",
    "file_list = sorted(glob.glob(path_dataset + 'train/*.csv'))\n",
    "\n",
    "print(os.getcwd())\n",
    "\n",
    "# dfs = []\n",
    "for input_file in file_list:\n",
    "    print('Loading:', input_file)\n",
    "#     dfs.append(pd.read_csv(input_file).drop(['data'], axis=1))"
   ]
  },
  {
   "cell_type": "code",
   "execution_count": 3,
   "metadata": {},
   "outputs": [],
   "source": [
    "# import sys\n",
    "# modules_dir = '../../Sensorfloors/REAML2020Hackathon/modules/'\n",
    "# sys.path.insert(1, '../../Sensorfloors/REAML2020Hackathon/')\n",
    "\n",
    "from modules_lib.data import KEYS as keys\n",
    "from modules_lib.data import get_data_from_data_frame\n",
    "from modules_lib.data import read_data"
   ]
  },
  {
   "cell_type": "markdown",
   "metadata": {},
   "source": [
    "### Generate Pickle FIle"
   ]
  },
  {
   "cell_type": "code",
   "execution_count": null,
   "metadata": {},
   "outputs": [],
   "source": [
    "# # #Test read file and build frames\n",
    "\n",
    "# train = []\n",
    "# n_files = len(file_list)\n",
    "# y_list = []\n",
    "# t_list = []\n",
    "# X_list = []\n",
    "\n",
    "# path_pickle = '/media/irfan-flw/DATA/Arbeit/6GEM/Program_Development/Coding/vicon_pos_converter_data/'\n",
    "\n",
    "# os.chdir(path_pickle)\n",
    "\n",
    "# offset = 2459877.0729167# 2410 13.45 #30.09 10.00: 2459852.9166667\n",
    "\n",
    "# data_pickle_file = 'train_pickle_file_24102022_with_run4.pkl'\n",
    "\n",
    "# for file_index, file in enumerate(file_list):\n",
    "#     print('Loading:', file)\n",
    "        \n",
    "#     frames, y, t, X = read_data(file, offset)\n",
    "            \n",
    "#     X_list.append(X)\n",
    "#     y_list.append(y)\n",
    "#     t_list.append(t)\n",
    "#     train.append(frames)\n",
    "#     # write data\n",
    "#     pickle_data = [train, y_list, X_list, t_list]\n",
    "#     with open(data_pickle_file, 'wb') as handle:\n",
    "#         pickle.dump(pickle_data, handle, protocol=3)\n",
    "\n",
    "\n",
    "# print(len(X_list),len(y_list),len(t_list))"
   ]
  },
  {
   "cell_type": "markdown",
   "metadata": {},
   "source": [
    "### Load Pickle FIle"
   ]
  },
  {
   "cell_type": "code",
   "execution_count": 4,
   "metadata": {},
   "outputs": [
    {
     "name": "stdout",
     "output_type": "stream",
     "text": [
      "Reloading from pickle file\n"
     ]
    }
   ],
   "source": [
    "train = []\n",
    "n_files = len(file_list)\n",
    "y_list = []\n",
    "t_list = []\n",
    "X_list = []\n",
    "offset = 2459877.0729167\n",
    "\n",
    "path_pickle = '/media/irfan-flw/DATA/Arbeit/6GEM/Program_Development/Coding/vicon_pos_converter_data/'\n",
    "\n",
    "os.chdir(path_pickle)\n",
    "\n",
    "data_pickle_file = 'train_pickle_file_24102022_with_run4.pkl' #train_pickle_file_24102022_with_run4.pkl\n",
    "\n",
    "if os.path.exists(data_pickle_file):\n",
    "    print('Reloading from pickle file')\n",
    "    with open(data_pickle_file, 'rb') as handle:\n",
    "         train, y_list, X_list, t_list = pickle.load(handle)\n",
    "else:\n",
    "    for file_index, file in enumerate(file_list):\n",
    "        print('Loading:', file)\n",
    "        \n",
    "        frames, y, t, X = read_data(file, offset)\n",
    "            \n",
    "        X_list.append(X)\n",
    "        y_list.append(y)\n",
    "        t_list.append(t)\n",
    "        train.append(frames)\n",
    "        \n",
    "    # write data\n",
    "    pickle_data = [train, y_list, X_list, t_list]\n",
    "    with open(data_pickle_file, 'wb') as handle:\n",
    "        pickle.dump(pickle_data, handle, protocol=3)"
   ]
  },
  {
   "cell_type": "code",
   "execution_count": 4,
   "metadata": {},
   "outputs": [
    {
     "name": "stdout",
     "output_type": "stream",
     "text": [
      "48339\n"
     ]
    }
   ],
   "source": [
    "#t avg old dataset 0.0631 to 0.1939\n",
    "num = 0\n",
    "\n",
    "for i in range(len(t_list)):\n",
    "    #print(t_list[i].min(),t_list[i].max())\n",
    "    num += len(t_list[i])\n",
    "print(num)\n"
   ]
  },
  {
   "cell_type": "markdown",
   "metadata": {},
   "source": [
    "## Compute sensor normalization"
   ]
  },
  {
   "cell_type": "code",
   "execution_count": 5,
   "metadata": {},
   "outputs": [
    {
     "name": "stdout",
     "output_type": "stream",
     "text": [
      "Total number of frames: 50349\n",
      "(23, 15, 10)\n",
      "(23, 15, 10)\n",
      "[ 5.00462116e-02  1.18597324e-01  9.69793110e-01 -8.55238346e-01\n",
      "  9.22393401e-01  7.23537146e-01  1.49858522e+01 -1.05495298e+00\n",
      "  3.03916666e+01 -7.91686463e+01]\n",
      "2.5439062684374294\n",
      "[2.97403763e-02 5.03621507e-02 2.35886836e-01 1.23987289e+00\n",
      " 6.80683857e-01 8.11797236e-01 9.25740252e+01 7.83481528e+01\n",
      " 1.18388448e+02 2.10423172e+01]\n",
      "4.501477064252892\n",
      "WARNING: File data/normalization/sensor_normalization_eqFalse_trTrue_24102022_with_r4.pkl already exists. Aborting!\n",
      "Sensor normalization file: data/normalization/sensor_normalization_eqFalse_trTrue_24102022_with_r4.pkl\n"
     ]
    }
   ],
   "source": [
    "#import numpy as np\n",
    "# --------\n",
    "# settings\n",
    "# --------\n",
    "norm_use_training_data = True\n",
    "treat_sensors_equally = False\n",
    "# --------\n",
    "\n",
    "home_path = '/home/irfan-flw/6GEM/Coding/Vicon_Pos_Converter/'\n",
    "os.chdir(home_path)\n",
    "\n",
    "if treat_sensors_equally:\n",
    "    norm_axes = (0, 1, 2)\n",
    "else:\n",
    "    norm_axes = 0\n",
    "\n",
    "sensor_norm = np.zeros_like(X_list[0][0])\n",
    "num_frames = 0\n",
    "X_concat = np.concatenate(X_list, axis=0)\n",
    "sensor_bias = np.nanmean(\n",
    "    X_concat, axis=norm_axes, keepdims=True)[0]\n",
    "sensor_std = np.nanstd(\n",
    "    X_concat, axis=norm_axes, keepdims=True)[0] + 1e-7\n",
    "print('Total number of frames:', X_concat.shape[0])\n",
    "print(sensor_bias.shape)\n",
    "print(sensor_std.shape)\n",
    "\n",
    "\n",
    "#with open('data/normalization/norm_data_00000100.pkl', 'rb') as handle:\n",
    "with open('data/normalization/sensor_normalization_eqFalse_trTrue_24102022_with_r4.pkl', 'rb') as handle:\n",
    "    t_norm, X_norm = pickle.load(handle, encoding='latin1')\n",
    "    sensor_bias2 = np.nanmean(\n",
    "        X_norm, axis=norm_axes, keepdims=True)[0]\n",
    "    sensor_std2 = np.nanstd(\n",
    "        X_norm, axis=norm_axes, keepdims=True)[0] + 1e-7\n",
    "    t_diff = np.diff(t_norm, axis=0)\n",
    "    #plt.hist(t_diff, bins=30)\n",
    "    \n",
    "print(np.nanmean(X_concat, axis=(0, 1, 2)))\n",
    "print(np.nanmean(X_norm, axis=(0, 1, 2)))\n",
    "\n",
    "print(np.nanstd(X_concat, axis=(0, 1, 2)))\n",
    "print(np.nanstd(X_norm, axis=(0, 1, 2)))\n",
    "\n",
    "# save sensor normalization\n",
    "if norm_use_training_data:\n",
    "    pass\n",
    "else:\n",
    "    sensor_bias = sensor_bias2\n",
    "    sensor_std = sensor_std2\n",
    "    \n",
    "# sensor_norm_file = 'data/normalization/sensor_normalization_eq{}_tr{}_09092022.pkl'.format(\n",
    "#     treat_sensors_equally, norm_use_training_data)\n",
    "sensor_norm_file = 'data/normalization/sensor_normalization_eqFalse_trTrue_24102022_with_r4.pkl'.format(\n",
    "    treat_sensors_equally, norm_use_training_data)\n",
    "if os.path.exists(sensor_norm_file):\n",
    "    print('WARNING: File {} already exists. Aborting!'.format(\n",
    "        sensor_norm_file))\n",
    "else:\n",
    "    with open(sensor_norm_file, 'wb') as handle:\n",
    "        pickle.dump([sensor_bias, sensor_std], \n",
    "                    handle, protocol=3)\n",
    "\n",
    "print('Sensor normalization file:', sensor_norm_file)\n"
   ]
  },
  {
   "cell_type": "markdown",
   "metadata": {},
   "source": [
    "## Vicon Sensors\n",
    "\n",
    "The sensors are arranged on a perfect rectangular 23x15 grid with distances of 1 in x-and y-direction."
   ]
  },
  {
   "cell_type": "code",
   "execution_count": 6,
   "metadata": {},
   "outputs": [
    {
     "name": "stdout",
     "output_type": "stream",
     "text": [
      "strip_id     1.000\n",
      "node_id      1.000\n",
      "vicon_x    -11.185\n",
      "vicon_y     -6.425\n",
      "dtype: float64\n",
      "strip_id    23.000\n",
      "node_id     15.000\n",
      "vicon_x     10.815\n",
      "vicon_y      7.575\n",
      "dtype: float64\n",
      "345 345\n"
     ]
    },
    {
     "data": {
      "text/html": [
       "<div>\n",
       "<style scoped>\n",
       "    .dataframe tbody tr th:only-of-type {\n",
       "        vertical-align: middle;\n",
       "    }\n",
       "\n",
       "    .dataframe tbody tr th {\n",
       "        vertical-align: top;\n",
       "    }\n",
       "\n",
       "    .dataframe thead th {\n",
       "        text-align: right;\n",
       "    }\n",
       "</style>\n",
       "<table border=\"1\" class=\"dataframe\">\n",
       "  <thead>\n",
       "    <tr style=\"text-align: right;\">\n",
       "      <th></th>\n",
       "      <th>strip_id</th>\n",
       "      <th>node_id</th>\n",
       "      <th>vicon_x</th>\n",
       "      <th>vicon_y</th>\n",
       "    </tr>\n",
       "  </thead>\n",
       "  <tbody>\n",
       "    <tr>\n",
       "      <th>0</th>\n",
       "      <td>1.0</td>\n",
       "      <td>1.0</td>\n",
       "      <td>-11.185</td>\n",
       "      <td>7.575</td>\n",
       "    </tr>\n",
       "    <tr>\n",
       "      <th>1</th>\n",
       "      <td>1.0</td>\n",
       "      <td>2.0</td>\n",
       "      <td>-11.185</td>\n",
       "      <td>6.575</td>\n",
       "    </tr>\n",
       "    <tr>\n",
       "      <th>2</th>\n",
       "      <td>1.0</td>\n",
       "      <td>3.0</td>\n",
       "      <td>-11.185</td>\n",
       "      <td>5.575</td>\n",
       "    </tr>\n",
       "    <tr>\n",
       "      <th>3</th>\n",
       "      <td>1.0</td>\n",
       "      <td>4.0</td>\n",
       "      <td>-11.185</td>\n",
       "      <td>4.575</td>\n",
       "    </tr>\n",
       "    <tr>\n",
       "      <th>4</th>\n",
       "      <td>1.0</td>\n",
       "      <td>5.0</td>\n",
       "      <td>-11.185</td>\n",
       "      <td>3.575</td>\n",
       "    </tr>\n",
       "  </tbody>\n",
       "</table>\n",
       "</div>"
      ],
      "text/plain": [
       "   strip_id  node_id  vicon_x  vicon_y\n",
       "0       1.0      1.0  -11.185    7.575\n",
       "1       1.0      2.0  -11.185    6.575\n",
       "2       1.0      3.0  -11.185    5.575\n",
       "3       1.0      4.0  -11.185    4.575\n",
       "4       1.0      5.0  -11.185    3.575"
      ]
     },
     "execution_count": 6,
     "metadata": {},
     "output_type": "execute_result"
    }
   ],
   "source": [
    "home_path = '/home/irfan-flw/6GEM/Coding/Vicon_Pos_Converter/'\n",
    "os.chdir(home_path)\n",
    "\n",
    "vicon_file = 'vicon_node_positions.csv'\n",
    "df_vicon = pd.read_csv(vicon_file)\n",
    "\n",
    "# get arrays of coordinates\n",
    "vicon_coords = np.empty([23, 15, 2])\n",
    "for strip_id in range(1, 24):\n",
    "    for node_id in range(1, 16):\n",
    "        mask = np.logical_and(\n",
    "            df_vicon['strip_id'] == strip_id,\n",
    "            df_vicon['node_id'] == node_id)\n",
    "        vicon_coords[strip_id-1, node_id-1, 0] = df_vicon.vicon_x[mask]\n",
    "        vicon_coords[strip_id-1, node_id-1, 1] = df_vicon.vicon_y[mask]\n",
    "print(df_vicon.min())\n",
    "print(df_vicon.max())\n",
    "print(df_vicon.node_id.size, 23*15)\n",
    "df_vicon.head()"
   ]
  },
  {
   "cell_type": "code",
   "execution_count": null,
   "metadata": {},
   "outputs": [
    {
     "data": {
      "image/png": "[encoded data removed]",
      "text/plain": [
       "<Figure size 1080x432 with 2 Axes>"
      ]
     },
     "metadata": {
      "needs_background": "light"
     },
     "output_type": "display_data"
    }
   ],
   "source": [
    "fig, axes = plt.subplots(1, 2, figsize=(15, 6))\n",
    "for strip_id in range(1, 24):\n",
    "    mask = df_vicon.strip_id == strip_id\n",
    "    #print(np.unique(np.diff(df_vicon.vicon_x[mask])))\n",
    "    #print(np.unique(np.diff(df_vicon.vicon_y[mask])))\n",
    "    if np.sum(mask) > 0:\n",
    "        axes[0].scatter(df_vicon.vicon_x[mask], df_vicon.vicon_y[mask], \n",
    "                        label='Strip: {:02d}'.format(strip_id))\n",
    "        axes[1].scatter(df_vicon.strip_id[mask], df_vicon.node_id[mask], \n",
    "                        label='Strip: {:02d}'.format(strip_id))\n",
    "    axes[0].set_xlabel('Vicon x')\n",
    "    axes[0].set_ylabel('Vicon y')\n",
    "    axes[1].set_xlabel('Strip ID')\n",
    "    axes[1].set_ylabel('Node ID')\n",
    "    "
   ]
  },
  {
   "cell_type": "markdown",
   "metadata": {},
   "source": [
    "## Predict with basic CNN"
   ]
  },
  {
   "cell_type": "code",
   "execution_count": 6,
   "metadata": {},
   "outputs": [
    {
     "name": "stderr",
     "output_type": "stream",
     "text": [
      "2022-10-31 20:24:45.962212: I tensorflow/core/util/util.cc:169] oneDNN custom operations are on. You may see slightly different numerical results due to floating-point round-off errors from different computation orders. To turn them off, set the environment variable `TF_ENABLE_ONEDNN_OPTS=0`.\n"
     ]
    }
   ],
   "source": [
    "import tensorflow as tf\n",
    "# from tensorflow.keras import datasets, layers, models\n",
    "from egenerator.utils import basis_functions\n",
    "\n",
    "import tensorflow as tf\n",
    "from keras import datasets, layers, models\n",
    "from keras import layers as tfs\n",
    "\n",
    "from tensorflow import keras\n",
    "from keras.models import Sequential\n",
    "from keras.layers import Conv2D, MaxPooling2D, AveragePooling2D, Dense, Flatten\n",
    "from keras.utils import GeneratorEnqueuer, to_categorical, np_utils\n",
    "from tqdm.keras import TqdmCallback\n"
   ]
  },
  {
   "cell_type": "code",
   "execution_count": 7,
   "metadata": {},
   "outputs": [
    {
     "name": "stdout",
     "output_type": "stream",
     "text": [
      "Model: \"sequential\"\n",
      "_________________________________________________________________\n",
      " Layer (type)                Output Shape              Param #   \n",
      "=================================================================\n",
      " dropout (Dropout)           (None, 23, 15, 6)         0         \n",
      "                                                                 \n",
      " conv2d (Conv2D)             (None, 23, 15, 64)        3520      \n",
      "                                                                 \n",
      " conv2d_1 (Conv2D)           (None, 23, 15, 64)        36928     \n",
      "                                                                 \n",
      " conv2d_2 (Conv2D)           (None, 23, 15, 64)        36928     \n",
      "                                                                 \n",
      " dropout_1 (Dropout)         (None, 23, 15, 64)        0         \n",
      "                                                                 \n",
      " average_pooling2d (AverageP  (None, 11, 7, 64)        0         \n",
      " ooling2D)                                                       \n",
      "                                                                 \n",
      " conv2d_3 (Conv2D)           (None, 11, 7, 64)         36928     \n",
      "                                                                 \n",
      " conv2d_4 (Conv2D)           (None, 11, 7, 64)         36928     \n",
      "                                                                 \n",
      " dropout_2 (Dropout)         (None, 11, 7, 64)         0         \n",
      "                                                                 \n",
      " conv2d_5 (Conv2D)           (None, 11, 7, 64)         36928     \n",
      "                                                                 \n",
      " average_pooling2d_1 (Averag  (None, 5, 3, 64)         0         \n",
      " ePooling2D)                                                     \n",
      "                                                                 \n",
      " conv2d_6 (Conv2D)           (None, 5, 3, 64)          36928     \n",
      "                                                                 \n",
      " dropout_3 (Dropout)         (None, 5, 3, 64)          0         \n",
      "                                                                 \n",
      " conv2d_7 (Conv2D)           (None, 5, 3, 64)          36928     \n",
      "                                                                 \n",
      " conv2d_8 (Conv2D)           (None, 5, 3, 64)          36928     \n",
      "                                                                 \n",
      " average_pooling2d_2 (Averag  (None, 2, 1, 64)         0         \n",
      " ePooling2D)                                                     \n",
      "                                                                 \n",
      " flatten (Flatten)           (None, 128)               0         \n",
      "                                                                 \n",
      " dropout_4 (Dropout)         (None, 128)               0         \n",
      "                                                                 \n",
      " dense (Dense)               (None, 128)               16512     \n",
      "                                                                 \n",
      " dense_1 (Dense)             (None, 128)               16512     \n",
      "                                                                 \n",
      " dense_2 (Dense)             (None, 6)                 774       \n",
      "                                                                 \n",
      " lambda (Lambda)             (None, 6)                 0         \n",
      "                                                                 \n",
      "=================================================================\n",
      "Total params: 332,742\n",
      "Trainable params: 332,742\n",
      "Non-trainable params: 0\n",
      "_________________________________________________________________\n"
     ]
    },
    {
     "name": "stderr",
     "output_type": "stream",
     "text": [
      "2022-10-31 20:25:35.403436: E tensorflow/stream_executor/cuda/cuda_driver.cc:271] failed call to cuInit: CUDA_ERROR_NO_DEVICE: no CUDA-capable device is detected\n",
      "2022-10-31 20:25:35.403492: I tensorflow/stream_executor/cuda/cuda_diagnostics.cc:156] kernel driver does not appear to be running on this host (irfanflw-XPS-15-9510): /proc/driver/nvidia/version does not exist\n",
      "2022-10-31 20:25:35.404229: I tensorflow/core/platform/cpu_feature_guard.cc:193] This TensorFlow binary is optimized with oneAPI Deep Neural Network Library (oneDNN) to use the following CPU instructions in performance-critical operations:  AVX2 AVX512F AVX512_VNNI FMA\n",
      "To enable them in other operations, rebuild TensorFlow with the appropriate compiler flags.\n"
     ]
    }
   ],
   "source": [
    "def limit_sigma(y_pred):\n",
    "    mu = y_pred[..., :2]\n",
    "    sigma = y_pred[..., 2:4]\n",
    "    r = y_pred[..., 4:]\n",
    "    sigma = tf.nn.elu(sigma) + 1.001\n",
    "    r = tf.nn.elu(r) + 1.001\n",
    "    y_pred = tf.concat([mu, sigma, r], axis=-1)\n",
    "    return y_pred\n",
    "\n",
    "\n",
    "model_name = 'coords'\n",
    "add_coordinates = True\n",
    "\n",
    "num_inputs = 4\n",
    "if add_coordinates:\n",
    "    num_inputs = 6\n",
    "\n",
    "model = models.Sequential()\n",
    "model.add(layers.InputLayer(input_shape=(23, 15, num_inputs))) \n",
    "\n",
    "if model_name == 'basic':\n",
    "    model.add(layers.Dropout(rate=0.01)) \n",
    "    model.add(layers.Conv2D(8, (3, 3), activation='elu', \n",
    "                            padding='same'))\n",
    "    model.add(layers.Conv2D(16, (3, 3), activation='elu', \n",
    "                            padding='same'))\n",
    "    model.add(layers.MaxPooling2D((2, 2)))\n",
    "    model.add(layers.Conv2D(16, (3, 3), activation='elu',\n",
    "                            padding='same'))\n",
    "    model.add(layers.Conv2D(16, (3, 3), activation='elu',\n",
    "                            padding='same'))\n",
    "    model.add(layers.MaxPooling2D((2, 2)))\n",
    "    model.add(layers.Conv2D(16, (3, 3), activation='elu',\n",
    "                            padding='same'))\n",
    "    model.add(layers.Conv2D(32, (3, 3), activation='elu',\n",
    "                            padding='same'))\n",
    "    model.add(layers.MaxPooling2D((2, 2)))\n",
    "    model.add(layers.Flatten())\n",
    "    model.add(layers.Dense(64, activation='elu'))\n",
    "    \n",
    "    optimizer = tf.optimizers.Adam(\n",
    "        learning_rate=0.001,\n",
    "        amsgrad=False,\n",
    "    )\n",
    "    batch_size = 1\n",
    "    epochs = 25\n",
    "    \n",
    "elif model_name == 'test':\n",
    "    model.add(layers.Dropout(rate=0.01)) \n",
    "    model.add(layers.Conv2D(64, (3, 3), activation='elu', \n",
    "                            padding='same'))\n",
    "    model.add(layers.Conv2D(64, (3, 3), activation='elu', \n",
    "                            padding='same'))\n",
    "    model.add(layers.Conv2D(64, (3, 3), activation='elu', \n",
    "                            padding='same'))\n",
    "    model.add(layers.Dropout(rate=0.05)) \n",
    "    model.add(layers.MaxPooling2D((2, 2)))\n",
    "    model.add(layers.Conv2D(64, (3, 3), activation='elu',\n",
    "                            padding='same'))\n",
    "    model.add(layers.Conv2D(64, (3, 3), activation='elu',\n",
    "                            padding='same'))\n",
    "    model.add(layers.Dropout(rate=0.05)) \n",
    "    model.add(layers.Conv2D(64, (3, 3), activation='elu', \n",
    "                            padding='same'))\n",
    "    model.add(layers.MaxPooling2D((2, 2)))\n",
    "    model.add(layers.Conv2D(64, (3, 3), activation='elu',\n",
    "                            padding='same'))\n",
    "    model.add(layers.Dropout(rate=0.05)) \n",
    "    model.add(layers.Conv2D(64, (3, 3), activation='elu',\n",
    "                            padding='same'))\n",
    "    model.add(layers.Conv2D(64, (3, 3), activation='elu', \n",
    "                            padding='same'))\n",
    "    model.add(layers.MaxPooling2D((2, 2)))\n",
    "    model.add(layers.Flatten())\n",
    "    model.add(layers.Dropout(rate=0.05)) \n",
    "    model.add(layers.Dense(128, activation='elu'))\n",
    "    model.add(layers.Dense(128, activation='elu'))\n",
    "    \n",
    "    optimizer = tf.optimizers.Adam(\n",
    "        learning_rate=0.0001,\n",
    "        amsgrad=True,\n",
    "    )\n",
    "    batch_size = 1\n",
    "    epochs = 50 #25 (current best)#20\n",
    "\n",
    "elif model_name == 'augmented':\n",
    "    #odel.add(layers.Dropout(rate=0.01)) \n",
    "    model.add(layers.Conv2D(64, (3, 3), activation='elu', \n",
    "                            padding='same'))\n",
    "    model.add(layers.Conv2D(64, (3, 3), activation='elu', \n",
    "                            padding='same'))\n",
    "    model.add(layers.Conv2D(64, (3, 3), activation='elu', \n",
    "                            padding='same'))\n",
    "    model.add(layers.Dropout(rate=0.05)) \n",
    "    model.add(layers.MaxPooling2D((2, 2)))\n",
    "    model.add(layers.Conv2D(64, (3, 3), activation='elu',\n",
    "                            padding='same'))\n",
    "    model.add(layers.Conv2D(64, (3, 3), activation='elu',\n",
    "                            padding='same'))\n",
    "    model.add(layers.Dropout(rate=0.05)) \n",
    "    model.add(layers.Conv2D(64, (3, 3), activation='elu', \n",
    "                            padding='same'))\n",
    "    model.add(layers.MaxPooling2D((2, 2)))\n",
    "    model.add(layers.Conv2D(64, (3, 3), activation='elu',\n",
    "                            padding='same'))\n",
    "    model.add(layers.Dropout(rate=0.05)) \n",
    "    model.add(layers.Conv2D(64, (3, 3), activation='elu',\n",
    "                            padding='same'))\n",
    "    model.add(layers.Conv2D(64, (3, 3), activation='elu', \n",
    "                            padding='same'))\n",
    "    model.add(layers.MaxPooling2D((2, 2)))\n",
    "    model.add(layers.Flatten())\n",
    "    model.add(layers.Dropout(rate=0.05)) \n",
    "    model.add(layers.Dense(128, activation='elu'))\n",
    "    model.add(layers.Dense(128, activation='elu'))\n",
    "    \n",
    "    optimizer = tf.optimizers.Adam(\n",
    "        learning_rate=0.0001,\n",
    "        amsgrad=True,\n",
    "    )\n",
    "    batch_size = 1\n",
    "    epochs = 25 \n",
    "elif model_name == 'coords':\n",
    "    model.add(layers.Dropout(rate=0.01)) \n",
    "    model.add(layers.Conv2D(64, (3, 3), activation='elu', \n",
    "                            padding='same'))\n",
    "    model.add(layers.Conv2D(64, (3, 3), activation='elu', \n",
    "                            padding='same'))\n",
    "    model.add(layers.Conv2D(64, (3, 3), activation='elu', \n",
    "                            padding='same'))\n",
    "    model.add(layers.Dropout(rate=0.05)) \n",
    "    #model.add(layers.SpatialDropout2D(rate=0.05)) \n",
    "    model.add(layers.AveragePooling2D((2, 2)))\n",
    "    model.add(layers.Conv2D(64, (3, 3), activation='elu',\n",
    "                            padding='same'))\n",
    "    model.add(layers.Conv2D(64, (3, 3), activation='elu',\n",
    "                            padding='same'))\n",
    "    model.add(layers.Dropout(rate=0.05)) \n",
    "    #model.add(layers.SpatialDropout2D(rate=0.05)) \n",
    "    model.add(layers.Conv2D(64, (3, 3), activation='elu', \n",
    "                            padding='same'))\n",
    "    model.add(layers.AveragePooling2D((2, 2)))\n",
    "    #model.add(layers.Dropout(rate=0.05)) \n",
    "    model.add(layers.Conv2D(64, (3, 3), activation='elu',\n",
    "                            padding='same'))\n",
    "    model.add(layers.Dropout(rate=0.05)) \n",
    "    model.add(layers.Conv2D(64, (3, 3), activation='elu',\n",
    "                            padding='same'))\n",
    "    model.add(layers.Conv2D(64, (3, 3), activation='elu', \n",
    "                            padding='same'))\n",
    "    #model.add(layers.Dropout(rate=0.05)) \n",
    "    model.add(layers.AveragePooling2D((2, 2)))\n",
    "    model.add(layers.Flatten())\n",
    "    model.add(layers.Dropout(rate=0.1)) \n",
    "    model.add(layers.Dense(128, activation='elu'))\n",
    "    model.add(layers.Dense(128, activation='elu'))\n",
    "    \n",
    "    optimizer = tf.optimizers.Adam(\n",
    "        learning_rate=0.0001,\n",
    "        amsgrad=True,\n",
    "    )\n",
    "    batch_size = 1\n",
    "    epochs = 35\n",
    "    #kernel_regulizer = tf.keras.regularizers.l1(1e-5)\n",
    "elif model_name == 'coords2':\n",
    "    #model.add(layers.Dropout(rate=0.01)) \n",
    "    model.add(layers.Conv2D(64, (3, 3), activation='elu', \n",
    "                            padding='same'))\n",
    "    model.add(layers.Conv2D(64, (3, 3), activation='elu', \n",
    "                            padding='same'))\n",
    "    model.add(layers.Conv2D(64, (3, 3), activation='elu', \n",
    "                            padding='same'))\n",
    "    #model.add(layers.Dropout(rate=0.05)) \n",
    "    #model.add(layers.SpatialDropout2D(rate=0.01)) \n",
    "    model.add(layers.AveragePooling2D((2, 2)))\n",
    "    model.add(layers.Conv2D(64, (3, 3), activation='elu',\n",
    "                            padding='same'))\n",
    "    model.add(layers.Conv2D(64, (3, 3), activation='elu',\n",
    "                            padding='same'))\n",
    "    #model.add(layers.Dropout(rate=0.05)) \n",
    "    #model.add(layers.SpatialDropout2D(rate=0.01)) \n",
    "    model.add(layers.Conv2D(64, (3, 3), activation='elu', \n",
    "                            padding='same'))\n",
    "    model.add(layers.AveragePooling2D((2, 2)))\n",
    "    model.add(layers.Conv2D(96, (3, 3), activation='elu',\n",
    "                            padding='same'))\n",
    "    #model.add(layers.Dropout(rate=0.05))\n",
    "    model.add(layers.Conv2D(96, (3, 3), activation='elu',\n",
    "                            padding='same'))\n",
    "    model.add(layers.Conv2D(96, (3, 3), activation='elu', \n",
    "                            padding='same'))\n",
    "    model.add(layers.AveragePooling2D((2, 2)))\n",
    "    model.add(layers.Flatten())\n",
    "    #model.add(layers.Dropout(rate=0.05)) \n",
    "    model.add(layers.Dense(192, activation='elu'))\n",
    "    model.add(layers.Dense(192, activation='elu'))\n",
    "    \n",
    "    optimizer = tf.optimizers.Adam(\n",
    "        learning_rate=0.0001,\n",
    "        amsgrad=True,\n",
    "    )\n",
    "\n",
    "    optimizer = tf.optimizers.Adam(amsgrad=True)\n",
    "\n",
    "    #kernel_regulizer = tf.keras.regularizers.l1(1e-5)\n",
    "    \n",
    "    batch_size = 1\n",
    "    epochs = 35 \n",
    "else:\n",
    "    raise ValueError\n",
    "model.add(layers.Dense(6))    \n",
    "model.add(layers.Lambda(limit_sigma))\n",
    "model.summary() \n",
    "\n"
   ]
  },
  {
   "cell_type": "code",
   "execution_count": 8,
   "metadata": {},
   "outputs": [],
   "source": [
    "from modules_lib.model import loss_fun\n",
    "\n",
    "model.compile(optimizer=optimizer, loss=loss_fun)"
   ]
  },
  {
   "cell_type": "code",
   "execution_count": 9,
   "metadata": {},
   "outputs": [
    {
     "data": {
      "image/png": "[encoded data removed]",
      "text/plain": [
       "<IPython.core.display.Image object>"
      ]
     },
     "execution_count": 9,
     "metadata": {},
     "output_type": "execute_result"
    }
   ],
   "source": [
    "from keras.utils.vis_utils import plot_model\n",
    "\n",
    "plot_model(model, to_file='model_plot_008_24102022.png', show_shapes=True, show_layer_names=True)"
   ]
  },
  {
   "cell_type": "markdown",
   "metadata": {},
   "source": [
    "**Split Train and Validation data**"
   ]
  },
  {
   "cell_type": "code",
   "execution_count": 10,
   "metadata": {},
   "outputs": [
    {
     "name": "stdout",
     "output_type": "stream",
     "text": [
      "train (42792, 23, 15, 4) (42792, 2) test: (7557, 23, 15, 4) (7557, 2)\n"
     ]
    }
   ],
   "source": [
    "from sklearn.model_selection import train_test_split\n",
    "\n",
    "X_train_list = []\n",
    "y_train_list = []\n",
    "t_train_list = []\n",
    "X_test_list = []\n",
    "y_test_list = []\n",
    "#t_test_list = []\n",
    "\n",
    "\n",
    "for train_index in range(len(t_list)):\n",
    "    X_data = np.array(X_list[train_index])\n",
    "    X_data = (X_data - sensor_bias) / sensor_std\n",
    "    X_data[~np.isfinite(X_data)] = 0\n",
    "    y_data = np.array(y_list[train_index])\n",
    "    t_data = np.array(t_list[train_index])\n",
    "\n",
    "    X_train, X_test, y_train, y_test = train_test_split(X_data, y_data, test_size=0.15, random_state=1000)\n",
    "    \n",
    "    # limit frame numbers\n",
    "    # end = run_limit_dict[train_index] \n",
    "    # X_train = X_train[:end]\n",
    "    # y_train = y_train[:end]\n",
    "    # t_train = t_train[:end]\n",
    "    \n",
    "    X_train_list.append(X_train[..., 6:])\n",
    "    #X_train_list.append(X_train)\n",
    "    y_train_list.append(y_train)\n",
    "    t_train_list.append(t_data)\n",
    "\n",
    "    X_test_list.append(X_test[..., 6:])\n",
    "    y_test_list.append(y_test)\n",
    "    \n",
    "X_train = np.concatenate(X_train_list, axis=0)\n",
    "y_train = np.concatenate(y_train_list, axis=0)\n",
    "X_test = np.concatenate(X_test_list, axis=0)\n",
    "y_test = np.concatenate(y_test_list, axis=0)\n",
    "#t_train = np.concatenate(t_train_list, axis=0)\n",
    "y_train_norm = y_train / 10.\n",
    "print('train', X_train.shape, y_train.shape, 'test:', X_test.shape, y_test.shape)"
   ]
  },
  {
   "cell_type": "code",
   "execution_count": 10,
   "metadata": {},
   "outputs": [
    {
     "name": "stdout",
     "output_type": "stream",
     "text": [
      "X_train (48339, 23, 15, 4)\n"
     ]
    }
   ],
   "source": [
    "X_train_list = []\n",
    "y_train_list = []\n",
    "t_train_list = []\n",
    "for train_index in range(len(t_list)):\n",
    "    X_train = np.array(X_list[train_index])\n",
    "    X_train = (X_train - sensor_bias) / sensor_std\n",
    "    X_train[~np.isfinite(X_train)] = 0\n",
    "    y_train = np.array(y_list[train_index])\n",
    "    t_train = np.array(t_list[train_index])\n",
    "    \n",
    "    # limit frame numbers\n",
    "    # end = run_limit_dict[train_index] \n",
    "    # X_train = X_train[:end]\n",
    "    # y_train = y_train[:end]\n",
    "    # t_train = t_train[:end]\n",
    "    \n",
    "    X_train_list.append(X_train[..., 6:])\n",
    "    #X_train_list.append(X_train)\n",
    "    y_train_list.append(y_train)\n",
    "    t_train_list.append(t_train)\n",
    "    \n",
    "X_train = np.concatenate(X_train_list, axis=0)\n",
    "y_train = np.concatenate(y_train_list, axis=0)\n",
    "t_train = np.concatenate(t_train_list, axis=0)\n",
    "y_train_norm = y_train / 10.\n",
    "print('X_train', X_train.shape)"
   ]
  },
  {
   "cell_type": "markdown",
   "metadata": {},
   "source": [
    "#### Data Augmentation"
   ]
  },
  {
   "cell_type": "code",
   "execution_count": null,
   "metadata": {},
   "outputs": [
    {
     "name": "stdout",
     "output_type": "stream",
     "text": [
      "X_train2 (326592, 23, 15, 4) y_train2 (326592, 2)\n"
     ]
    }
   ],
   "source": [
    "# get coordinates of symmetry axis\n",
    "center_x, center_y = np.mean(vicon_coords, axis=(0, 1))\n",
    "\n",
    "def flip_along_x_axis(X, y):\n",
    "    X = np.array(X[:, :, ::-1, :])\n",
    "    y = np.array(y)\n",
    "    y[:, 1] = y[:, 1] - 2*(y[:, 1] - center_y)\n",
    "    return X, y\n",
    "\n",
    "def flip_along_y_axis(X, y):\n",
    "    X = np.array(X[:, ::-1, :, :])\n",
    "    y = np.array(y)\n",
    "    y[:, 0] = y[:, 0] - 2*(y[:, 0] - center_x)\n",
    "    return X, y\n",
    "\n",
    "def convert_to_cell(x, y):\n",
    "    '''\n",
    "    This function takes a measurement in origin frame (x,y), convert it\n",
    "    to a cell number and return it as (strip_id, node_id)\n",
    "    '''\n",
    "    def translate(value, leftMin, leftMax, rightMin, rightMax):\n",
    "        # Figure out how 'wide' each range is\n",
    "        leftSpan = leftMax - leftMin\n",
    "        rightSpan = rightMax - rightMin\n",
    "\n",
    "        # Convert the left range into a 0-1 range (float)\n",
    "        valueScaled = 1.*(value - leftMin) / leftSpan\n",
    "\n",
    "        # Convert the 0-1 range into a value in the right range.\n",
    "        return rightMin + (valueScaled * rightSpan)\n",
    "\n",
    "    predict_cell = np.zeros([len(y), 2])\n",
    "    predict_cell[:, 0] = x + 11.185\n",
    "    predict_cell[:, 1] = translate(y, -15+7.575, 7.575, 15, 0)\n",
    "    predict_cell = np.round(predict_cell)\n",
    "\n",
    "    return predict_cell\n",
    "    \n",
    "def shift_columns(X, y, n=4, keep_unshifted=True):\n",
    "\n",
    "    # get current cell indices\n",
    "    strip_id = convert_to_cell(y[:,0], y[:,1])[:, 0]\n",
    "    \n",
    "    # get events where there is enough space left and right\n",
    "    mask = np.logical_and(strip_id > n, strip_id < 22-n)\n",
    "    \n",
    "    if not keep_unshifted:\n",
    "        X = np.array(X[mask])\n",
    "        y = np.array(y[mask])\n",
    "        strip_id = strip_id[mask]\n",
    "\n",
    "    # compute maximum allowed shift left or right\n",
    "    shift_left = np.clip(strip_id - n, 0, float('inf'))\n",
    "    shift_right = np.clip(22 - strip_id - n, 0, float('inf'))\n",
    "\n",
    "    # sample random shift\n",
    "    # Note: shift_right won't get sampled, but we use 0 \n",
    "    # for that\n",
    "    shifts = np.random.randint(\n",
    "        low=-shift_left, \n",
    "        high=np.clip(shift_right, 1, float('inf')),\n",
    "    )\n",
    "    mask_z = shifts == 0\n",
    "    shifts[mask_z] = shift_right[mask_z]\n",
    "    mask = shifts == 0\n",
    "    shifts[mask_z] = shift_left[mask_z]\n",
    "    \n",
    "    if keep_unshifted:\n",
    "        shifts[mask] = 0\n",
    "    \n",
    "    # shift data\n",
    "    X = np.roll(X, shifts, axis=1)\n",
    "    y[:, 0] += shifts\n",
    "    \n",
    "    return X, y\n",
    "\n",
    "def add_flip_augmentation(X, y):\n",
    "    X_x, y_x = flip_along_x_axis(X, y)\n",
    "    X_y, y_y = flip_along_y_axis(X, y)\n",
    "    X = np.concatenate((X, X_x, X_y), axis=0)\n",
    "    y = np.concatenate((y, y_x, y_y), axis=0)\n",
    "    return X, y\n",
    "\n",
    "def add_augmentations(X, y, n_shifts=3):\n",
    "    #return add_flip_augmentation(X, y)\n",
    "    X_list = [X]\n",
    "    y_list = [y]\n",
    "    for i in range(n_shifts):\n",
    "        X_shift, y_shift = shift_columns(\n",
    "            X, y, keep_unshifted=False)\n",
    "        X_list.append(X_shift)\n",
    "        y_list.append(y_shift)\n",
    "    X = np.concatenate(X_list, axis=0)\n",
    "    y = np.concatenate(y_list, axis=0)  \n",
    "    \n",
    "    return add_flip_augmentation(X, y)\n",
    "\n",
    "X_train2, y_train2 = add_augmentations(X_train, y_train)\n",
    "print('X_train2', X_train2.shape, 'y_train2', y_train2.shape)\n"
   ]
  },
  {
   "cell_type": "markdown",
   "metadata": {},
   "source": [
    "#### Fit Model"
   ]
  },
  {
   "cell_type": "code",
   "execution_count": 11,
   "metadata": {},
   "outputs": [
    {
     "name": "stdout",
     "output_type": "stream",
     "text": [
      "data/models/model_per_epoch/model_coords_03\n"
     ]
    }
   ],
   "source": [
    "from keras.callbacks import ModelCheckpoint\n",
    "\n",
    "#dir = 'data/models/model_per_epoch/model_{}_{epoch:02d}_24102022'\n",
    "dir = 'data/models/model_per_epoch/model_coords_03/'\n",
    "model_dir = os.path.dirname(dir.format(model_name, 0))\n",
    "if not os.path.exists(model_dir):\n",
    "    print('Creating Directory {}'.format(model_dir))\n",
    "    os.makedirs(model_dir)\n",
    "\n",
    "print(model_dir)\n",
    "\n",
    "class CustomSaver(tf.keras.callbacks.ModelCheckpoint):\n",
    "    def __init__(self,\n",
    "                 filepath,\n",
    "                 frequency=1,\n",
    "                 monitor='val_loss',\n",
    "                 verbose=0,\n",
    "                 save_best_only=False,\n",
    "                 save_weights_only=False,\n",
    "                 mode='auto',\n",
    "                 options=None,\n",
    "                 **kwargs):\n",
    "        super(CustomSaver, self).__init__(filepath, monitor, verbose, save_best_only, save_weights_only,\n",
    "                                                   mode, \"epoch\", options)\n",
    "        self.epochs_since_last_save = 0\n",
    "        self.frequency = frequency\n",
    "\n",
    "\n",
    "    def on_epoch_end(self, epoch, logs=None):\n",
    "        self.epochs_since_last_save += 1\n",
    "        # pylint: disable=protected-access\n",
    "        if self.epochs_since_last_save % self.frequency == 0:\n",
    "            #self._save_model(epoch=epoch, batch=None, logs=logs)\n",
    "            #model_file = 'data/models/model_per_epoch/model_{}_{epoch:02d}_24102022'\n",
    "            #model_file = 'data/models/model_per_epoch/model_basic_00_24102022'\n",
    "            # -----------------\n",
    "            print('Saving prediction to:', model_dir+'/model_{}')\n",
    "            self.model.save(model_dir+'/model_{}'.format(epoch))\n",
    "            # save normalization model\n",
    "            meta_file = os.path.join(model_dir+'/model_{}'.format(epoch), 'normalization.txt')\n",
    "            with open(meta_file, \"w\") as text_file:\n",
    "                text_file.write(sensor_norm_file)\n",
    "                    \n",
    "            # save meta data\n",
    "            meta_file = os.path.join(model_dir+'/model_{}'.format(epoch), 'meta.pkl')\n",
    "            meta_data = {\n",
    "                        'add_coordinates': add_coordinates,\n",
    "                        'sensor_norm_file': sensor_norm_file,\n",
    "                    }\n",
    "            with open(meta_file, \"wb\") as handle:\n",
    "                pickle.dump(meta_data, handle, protocol=2)         "
   ]
  },
  {
   "cell_type": "code",
   "execution_count": 12,
   "metadata": {},
   "outputs": [
    {
     "name": "stdout",
     "output_type": "stream",
     "text": [
      "X_train_ext (42792, 23, 15, 6) X_test_ext (7557, 23, 15, 6)\n"
     ]
    },
    {
     "data": {
      "application/vnd.jupyter.widget-view+json": {
       "model_id": "586a7777a97641cf835efe8275434329",
       "version_major": 2,
       "version_minor": 0
      },
      "text/plain": [
       "0epoch [00:00, ?epoch/s]"
      ]
     },
     "metadata": {},
     "output_type": "display_data"
    },
    {
     "data": {
      "application/vnd.jupyter.widget-view+json": {
       "model_id": "6a6548aaec6b40c28324ae2c6049ab24",
       "version_major": 2,
       "version_minor": 0
      },
      "text/plain": [
       "0batch [00:00, ?batch/s]"
      ]
     },
     "metadata": {},
     "output_type": "display_data"
    },
    {
     "name": "stdout",
     "output_type": "stream",
     "text": [
      "Saving prediction to: data/models/model_per_epoch/model_coords_03/model_{}\n"
     ]
    },
    {
     "name": "stderr",
     "output_type": "stream",
     "text": [
      "WARNING:absl:Found untraced functions such as _jit_compiled_convolution_op, _jit_compiled_convolution_op, _jit_compiled_convolution_op, _jit_compiled_convolution_op, _jit_compiled_convolution_op while saving (showing 5 of 9). These functions will not be directly callable after loading.\n"
     ]
    },
    {
     "name": "stdout",
     "output_type": "stream",
     "text": [
      "INFO:tensorflow:Assets written to: data/models/model_per_epoch/model_coords_03/model_0/assets\n"
     ]
    },
    {
     "name": "stderr",
     "output_type": "stream",
     "text": [
      "INFO:tensorflow:Assets written to: data/models/model_per_epoch/model_coords_03/model_0/assets\n"
     ]
    },
    {
     "name": "stdout",
     "output_type": "stream",
     "text": [
      "Saving prediction to: data/models/model_per_epoch/model_coords_03/model_{}\n"
     ]
    },
    {
     "name": "stderr",
     "output_type": "stream",
     "text": [
      "WARNING:absl:Found untraced functions such as _jit_compiled_convolution_op, _jit_compiled_convolution_op, _jit_compiled_convolution_op, _jit_compiled_convolution_op, _jit_compiled_convolution_op while saving (showing 5 of 9). These functions will not be directly callable after loading.\n"
     ]
    },
    {
     "name": "stdout",
     "output_type": "stream",
     "text": [
      "INFO:tensorflow:Assets written to: data/models/model_per_epoch/model_coords_03/model_1/assets\n"
     ]
    },
    {
     "name": "stderr",
     "output_type": "stream",
     "text": [
      "INFO:tensorflow:Assets written to: data/models/model_per_epoch/model_coords_03/model_1/assets\n"
     ]
    },
    {
     "name": "stdout",
     "output_type": "stream",
     "text": [
      "Saving prediction to: data/models/model_per_epoch/model_coords_03/model_{}\n"
     ]
    },
    {
     "name": "stderr",
     "output_type": "stream",
     "text": [
      "WARNING:absl:Found untraced functions such as _jit_compiled_convolution_op, _jit_compiled_convolution_op, _jit_compiled_convolution_op, _jit_compiled_convolution_op, _jit_compiled_convolution_op while saving (showing 5 of 9). These functions will not be directly callable after loading.\n"
     ]
    },
    {
     "name": "stdout",
     "output_type": "stream",
     "text": [
      "INFO:tensorflow:Assets written to: data/models/model_per_epoch/model_coords_03/model_2/assets\n"
     ]
    },
    {
     "name": "stderr",
     "output_type": "stream",
     "text": [
      "INFO:tensorflow:Assets written to: data/models/model_per_epoch/model_coords_03/model_2/assets\n"
     ]
    },
    {
     "name": "stdout",
     "output_type": "stream",
     "text": [
      "Saving prediction to: data/models/model_per_epoch/model_coords_03/model_{}\n"
     ]
    },
    {
     "name": "stderr",
     "output_type": "stream",
     "text": [
      "WARNING:absl:Found untraced functions such as _jit_compiled_convolution_op, _jit_compiled_convolution_op, _jit_compiled_convolution_op, _jit_compiled_convolution_op, _jit_compiled_convolution_op while saving (showing 5 of 9). These functions will not be directly callable after loading.\n"
     ]
    },
    {
     "name": "stdout",
     "output_type": "stream",
     "text": [
      "INFO:tensorflow:Assets written to: data/models/model_per_epoch/model_coords_03/model_3/assets\n"
     ]
    },
    {
     "name": "stderr",
     "output_type": "stream",
     "text": [
      "INFO:tensorflow:Assets written to: data/models/model_per_epoch/model_coords_03/model_3/assets\n"
     ]
    },
    {
     "name": "stdout",
     "output_type": "stream",
     "text": [
      "Saving prediction to: data/models/model_per_epoch/model_coords_03/model_{}\n"
     ]
    },
    {
     "name": "stderr",
     "output_type": "stream",
     "text": [
      "WARNING:absl:Found untraced functions such as _jit_compiled_convolution_op, _jit_compiled_convolution_op, _jit_compiled_convolution_op, _jit_compiled_convolution_op, _jit_compiled_convolution_op while saving (showing 5 of 9). These functions will not be directly callable after loading.\n"
     ]
    },
    {
     "name": "stdout",
     "output_type": "stream",
     "text": [
      "INFO:tensorflow:Assets written to: data/models/model_per_epoch/model_coords_03/model_4/assets\n"
     ]
    },
    {
     "name": "stderr",
     "output_type": "stream",
     "text": [
      "INFO:tensorflow:Assets written to: data/models/model_per_epoch/model_coords_03/model_4/assets\n"
     ]
    },
    {
     "name": "stdout",
     "output_type": "stream",
     "text": [
      "Saving prediction to: data/models/model_per_epoch/model_coords_03/model_{}\n"
     ]
    },
    {
     "name": "stderr",
     "output_type": "stream",
     "text": [
      "WARNING:absl:Found untraced functions such as _jit_compiled_convolution_op, _jit_compiled_convolution_op, _jit_compiled_convolution_op, _jit_compiled_convolution_op, _jit_compiled_convolution_op while saving (showing 5 of 9). These functions will not be directly callable after loading.\n"
     ]
    },
    {
     "name": "stdout",
     "output_type": "stream",
     "text": [
      "INFO:tensorflow:Assets written to: data/models/model_per_epoch/model_coords_03/model_5/assets\n"
     ]
    },
    {
     "name": "stderr",
     "output_type": "stream",
     "text": [
      "INFO:tensorflow:Assets written to: data/models/model_per_epoch/model_coords_03/model_5/assets\n"
     ]
    },
    {
     "name": "stdout",
     "output_type": "stream",
     "text": [
      "Saving prediction to: data/models/model_per_epoch/model_coords_03/model_{}\n"
     ]
    },
    {
     "name": "stderr",
     "output_type": "stream",
     "text": [
      "WARNING:absl:Found untraced functions such as _jit_compiled_convolution_op, _jit_compiled_convolution_op, _jit_compiled_convolution_op, _jit_compiled_convolution_op, _jit_compiled_convolution_op while saving (showing 5 of 9). These functions will not be directly callable after loading.\n"
     ]
    },
    {
     "name": "stdout",
     "output_type": "stream",
     "text": [
      "INFO:tensorflow:Assets written to: data/models/model_per_epoch/model_coords_03/model_6/assets\n"
     ]
    },
    {
     "name": "stderr",
     "output_type": "stream",
     "text": [
      "INFO:tensorflow:Assets written to: data/models/model_per_epoch/model_coords_03/model_6/assets\n"
     ]
    },
    {
     "name": "stdout",
     "output_type": "stream",
     "text": [
      "Saving prediction to: data/models/model_per_epoch/model_coords_03/model_{}\n"
     ]
    },
    {
     "name": "stderr",
     "output_type": "stream",
     "text": [
      "WARNING:absl:Found untraced functions such as _jit_compiled_convolution_op, _jit_compiled_convolution_op, _jit_compiled_convolution_op, _jit_compiled_convolution_op, _jit_compiled_convolution_op while saving (showing 5 of 9). These functions will not be directly callable after loading.\n"
     ]
    },
    {
     "name": "stdout",
     "output_type": "stream",
     "text": [
      "INFO:tensorflow:Assets written to: data/models/model_per_epoch/model_coords_03/model_7/assets\n"
     ]
    },
    {
     "name": "stderr",
     "output_type": "stream",
     "text": [
      "INFO:tensorflow:Assets written to: data/models/model_per_epoch/model_coords_03/model_7/assets\n"
     ]
    },
    {
     "name": "stdout",
     "output_type": "stream",
     "text": [
      "Saving prediction to: data/models/model_per_epoch/model_coords_03/model_{}\n"
     ]
    },
    {
     "name": "stderr",
     "output_type": "stream",
     "text": [
      "WARNING:absl:Found untraced functions such as _jit_compiled_convolution_op, _jit_compiled_convolution_op, _jit_compiled_convolution_op, _jit_compiled_convolution_op, _jit_compiled_convolution_op while saving (showing 5 of 9). These functions will not be directly callable after loading.\n"
     ]
    },
    {
     "name": "stdout",
     "output_type": "stream",
     "text": [
      "INFO:tensorflow:Assets written to: data/models/model_per_epoch/model_coords_03/model_8/assets\n"
     ]
    },
    {
     "name": "stderr",
     "output_type": "stream",
     "text": [
      "INFO:tensorflow:Assets written to: data/models/model_per_epoch/model_coords_03/model_8/assets\n"
     ]
    },
    {
     "name": "stdout",
     "output_type": "stream",
     "text": [
      "Saving prediction to: data/models/model_per_epoch/model_coords_03/model_{}\n"
     ]
    },
    {
     "name": "stderr",
     "output_type": "stream",
     "text": [
      "WARNING:absl:Found untraced functions such as _jit_compiled_convolution_op, _jit_compiled_convolution_op, _jit_compiled_convolution_op, _jit_compiled_convolution_op, _jit_compiled_convolution_op while saving (showing 5 of 9). These functions will not be directly callable after loading.\n"
     ]
    },
    {
     "name": "stdout",
     "output_type": "stream",
     "text": [
      "INFO:tensorflow:Assets written to: data/models/model_per_epoch/model_coords_03/model_9/assets\n"
     ]
    },
    {
     "name": "stderr",
     "output_type": "stream",
     "text": [
      "INFO:tensorflow:Assets written to: data/models/model_per_epoch/model_coords_03/model_9/assets\n"
     ]
    },
    {
     "name": "stdout",
     "output_type": "stream",
     "text": [
      "Saving prediction to: data/models/model_per_epoch/model_coords_03/model_{}\n"
     ]
    },
    {
     "name": "stderr",
     "output_type": "stream",
     "text": [
      "WARNING:absl:Found untraced functions such as _jit_compiled_convolution_op, _jit_compiled_convolution_op, _jit_compiled_convolution_op, _jit_compiled_convolution_op, _jit_compiled_convolution_op while saving (showing 5 of 9). These functions will not be directly callable after loading.\n"
     ]
    },
    {
     "name": "stdout",
     "output_type": "stream",
     "text": [
      "INFO:tensorflow:Assets written to: data/models/model_per_epoch/model_coords_03/model_10/assets\n"
     ]
    },
    {
     "name": "stderr",
     "output_type": "stream",
     "text": [
      "INFO:tensorflow:Assets written to: data/models/model_per_epoch/model_coords_03/model_10/assets\n"
     ]
    },
    {
     "name": "stdout",
     "output_type": "stream",
     "text": [
      "Saving prediction to: data/models/model_per_epoch/model_coords_03/model_{}\n"
     ]
    },
    {
     "name": "stderr",
     "output_type": "stream",
     "text": [
      "WARNING:absl:Found untraced functions such as _jit_compiled_convolution_op, _jit_compiled_convolution_op, _jit_compiled_convolution_op, _jit_compiled_convolution_op, _jit_compiled_convolution_op while saving (showing 5 of 9). These functions will not be directly callable after loading.\n"
     ]
    },
    {
     "name": "stdout",
     "output_type": "stream",
     "text": [
      "INFO:tensorflow:Assets written to: data/models/model_per_epoch/model_coords_03/model_11/assets\n"
     ]
    },
    {
     "name": "stderr",
     "output_type": "stream",
     "text": [
      "INFO:tensorflow:Assets written to: data/models/model_per_epoch/model_coords_03/model_11/assets\n"
     ]
    },
    {
     "name": "stdout",
     "output_type": "stream",
     "text": [
      "Saving prediction to: data/models/model_per_epoch/model_coords_03/model_{}\n"
     ]
    },
    {
     "name": "stderr",
     "output_type": "stream",
     "text": [
      "WARNING:absl:Found untraced functions such as _jit_compiled_convolution_op, _jit_compiled_convolution_op, _jit_compiled_convolution_op, _jit_compiled_convolution_op, _jit_compiled_convolution_op while saving (showing 5 of 9). These functions will not be directly callable after loading.\n"
     ]
    },
    {
     "name": "stdout",
     "output_type": "stream",
     "text": [
      "INFO:tensorflow:Assets written to: data/models/model_per_epoch/model_coords_03/model_12/assets\n"
     ]
    },
    {
     "name": "stderr",
     "output_type": "stream",
     "text": [
      "INFO:tensorflow:Assets written to: data/models/model_per_epoch/model_coords_03/model_12/assets\n"
     ]
    },
    {
     "name": "stdout",
     "output_type": "stream",
     "text": [
      "Saving prediction to: data/models/model_per_epoch/model_coords_03/model_{}\n"
     ]
    },
    {
     "name": "stderr",
     "output_type": "stream",
     "text": [
      "WARNING:absl:Found untraced functions such as _jit_compiled_convolution_op, _jit_compiled_convolution_op, _jit_compiled_convolution_op, _jit_compiled_convolution_op, _jit_compiled_convolution_op while saving (showing 5 of 9). These functions will not be directly callable after loading.\n"
     ]
    },
    {
     "name": "stdout",
     "output_type": "stream",
     "text": [
      "INFO:tensorflow:Assets written to: data/models/model_per_epoch/model_coords_03/model_13/assets\n"
     ]
    },
    {
     "name": "stderr",
     "output_type": "stream",
     "text": [
      "INFO:tensorflow:Assets written to: data/models/model_per_epoch/model_coords_03/model_13/assets\n"
     ]
    },
    {
     "name": "stdout",
     "output_type": "stream",
     "text": [
      "Saving prediction to: data/models/model_per_epoch/model_coords_03/model_{}\n"
     ]
    },
    {
     "name": "stderr",
     "output_type": "stream",
     "text": [
      "WARNING:absl:Found untraced functions such as _jit_compiled_convolution_op, _jit_compiled_convolution_op, _jit_compiled_convolution_op, _jit_compiled_convolution_op, _jit_compiled_convolution_op while saving (showing 5 of 9). These functions will not be directly callable after loading.\n"
     ]
    },
    {
     "name": "stdout",
     "output_type": "stream",
     "text": [
      "INFO:tensorflow:Assets written to: data/models/model_per_epoch/model_coords_03/model_14/assets\n"
     ]
    },
    {
     "name": "stderr",
     "output_type": "stream",
     "text": [
      "INFO:tensorflow:Assets written to: data/models/model_per_epoch/model_coords_03/model_14/assets\n"
     ]
    },
    {
     "name": "stdout",
     "output_type": "stream",
     "text": [
      "Saving prediction to: data/models/model_per_epoch/model_coords_03/model_{}\n"
     ]
    },
    {
     "name": "stderr",
     "output_type": "stream",
     "text": [
      "WARNING:absl:Found untraced functions such as _jit_compiled_convolution_op, _jit_compiled_convolution_op, _jit_compiled_convolution_op, _jit_compiled_convolution_op, _jit_compiled_convolution_op while saving (showing 5 of 9). These functions will not be directly callable after loading.\n"
     ]
    },
    {
     "name": "stdout",
     "output_type": "stream",
     "text": [
      "INFO:tensorflow:Assets written to: data/models/model_per_epoch/model_coords_03/model_15/assets\n"
     ]
    },
    {
     "name": "stderr",
     "output_type": "stream",
     "text": [
      "INFO:tensorflow:Assets written to: data/models/model_per_epoch/model_coords_03/model_15/assets\n"
     ]
    },
    {
     "name": "stdout",
     "output_type": "stream",
     "text": [
      "Saving prediction to: data/models/model_per_epoch/model_coords_03/model_{}\n"
     ]
    },
    {
     "name": "stderr",
     "output_type": "stream",
     "text": [
      "WARNING:absl:Found untraced functions such as _jit_compiled_convolution_op, _jit_compiled_convolution_op, _jit_compiled_convolution_op, _jit_compiled_convolution_op, _jit_compiled_convolution_op while saving (showing 5 of 9). These functions will not be directly callable after loading.\n"
     ]
    },
    {
     "name": "stdout",
     "output_type": "stream",
     "text": [
      "INFO:tensorflow:Assets written to: data/models/model_per_epoch/model_coords_03/model_16/assets\n"
     ]
    },
    {
     "name": "stderr",
     "output_type": "stream",
     "text": [
      "INFO:tensorflow:Assets written to: data/models/model_per_epoch/model_coords_03/model_16/assets\n"
     ]
    },
    {
     "name": "stdout",
     "output_type": "stream",
     "text": [
      "Saving prediction to: data/models/model_per_epoch/model_coords_03/model_{}\n"
     ]
    },
    {
     "name": "stderr",
     "output_type": "stream",
     "text": [
      "WARNING:absl:Found untraced functions such as _jit_compiled_convolution_op, _jit_compiled_convolution_op, _jit_compiled_convolution_op, _jit_compiled_convolution_op, _jit_compiled_convolution_op while saving (showing 5 of 9). These functions will not be directly callable after loading.\n"
     ]
    },
    {
     "name": "stdout",
     "output_type": "stream",
     "text": [
      "INFO:tensorflow:Assets written to: data/models/model_per_epoch/model_coords_03/model_17/assets\n"
     ]
    },
    {
     "name": "stderr",
     "output_type": "stream",
     "text": [
      "INFO:tensorflow:Assets written to: data/models/model_per_epoch/model_coords_03/model_17/assets\n"
     ]
    },
    {
     "name": "stdout",
     "output_type": "stream",
     "text": [
      "Saving prediction to: data/models/model_per_epoch/model_coords_03/model_{}\n"
     ]
    },
    {
     "name": "stderr",
     "output_type": "stream",
     "text": [
      "WARNING:absl:Found untraced functions such as _jit_compiled_convolution_op, _jit_compiled_convolution_op, _jit_compiled_convolution_op, _jit_compiled_convolution_op, _jit_compiled_convolution_op while saving (showing 5 of 9). These functions will not be directly callable after loading.\n"
     ]
    },
    {
     "name": "stdout",
     "output_type": "stream",
     "text": [
      "INFO:tensorflow:Assets written to: data/models/model_per_epoch/model_coords_03/model_18/assets\n"
     ]
    },
    {
     "name": "stderr",
     "output_type": "stream",
     "text": [
      "INFO:tensorflow:Assets written to: data/models/model_per_epoch/model_coords_03/model_18/assets\n"
     ]
    },
    {
     "name": "stdout",
     "output_type": "stream",
     "text": [
      "Saving prediction to: data/models/model_per_epoch/model_coords_03/model_{}\n"
     ]
    },
    {
     "name": "stderr",
     "output_type": "stream",
     "text": [
      "WARNING:absl:Found untraced functions such as _jit_compiled_convolution_op, _jit_compiled_convolution_op, _jit_compiled_convolution_op, _jit_compiled_convolution_op, _jit_compiled_convolution_op while saving (showing 5 of 9). These functions will not be directly callable after loading.\n"
     ]
    },
    {
     "name": "stdout",
     "output_type": "stream",
     "text": [
      "INFO:tensorflow:Assets written to: data/models/model_per_epoch/model_coords_03/model_19/assets\n"
     ]
    },
    {
     "name": "stderr",
     "output_type": "stream",
     "text": [
      "INFO:tensorflow:Assets written to: data/models/model_per_epoch/model_coords_03/model_19/assets\n"
     ]
    },
    {
     "name": "stdout",
     "output_type": "stream",
     "text": [
      "Saving prediction to: data/models/model_per_epoch/model_coords_03/model_{}\n"
     ]
    },
    {
     "name": "stderr",
     "output_type": "stream",
     "text": [
      "WARNING:absl:Found untraced functions such as _jit_compiled_convolution_op, _jit_compiled_convolution_op, _jit_compiled_convolution_op, _jit_compiled_convolution_op, _jit_compiled_convolution_op while saving (showing 5 of 9). These functions will not be directly callable after loading.\n"
     ]
    },
    {
     "name": "stdout",
     "output_type": "stream",
     "text": [
      "INFO:tensorflow:Assets written to: data/models/model_per_epoch/model_coords_03/model_20/assets\n"
     ]
    },
    {
     "name": "stderr",
     "output_type": "stream",
     "text": [
      "INFO:tensorflow:Assets written to: data/models/model_per_epoch/model_coords_03/model_20/assets\n"
     ]
    },
    {
     "name": "stdout",
     "output_type": "stream",
     "text": [
      "Saving prediction to: data/models/model_per_epoch/model_coords_03/model_{}\n"
     ]
    },
    {
     "name": "stderr",
     "output_type": "stream",
     "text": [
      "WARNING:absl:Found untraced functions such as _jit_compiled_convolution_op, _jit_compiled_convolution_op, _jit_compiled_convolution_op, _jit_compiled_convolution_op, _jit_compiled_convolution_op while saving (showing 5 of 9). These functions will not be directly callable after loading.\n"
     ]
    },
    {
     "name": "stdout",
     "output_type": "stream",
     "text": [
      "INFO:tensorflow:Assets written to: data/models/model_per_epoch/model_coords_03/model_21/assets\n"
     ]
    },
    {
     "name": "stderr",
     "output_type": "stream",
     "text": [
      "INFO:tensorflow:Assets written to: data/models/model_per_epoch/model_coords_03/model_21/assets\n"
     ]
    },
    {
     "name": "stdout",
     "output_type": "stream",
     "text": [
      "Saving prediction to: data/models/model_per_epoch/model_coords_03/model_{}\n"
     ]
    },
    {
     "name": "stderr",
     "output_type": "stream",
     "text": [
      "WARNING:absl:Found untraced functions such as _jit_compiled_convolution_op, _jit_compiled_convolution_op, _jit_compiled_convolution_op, _jit_compiled_convolution_op, _jit_compiled_convolution_op while saving (showing 5 of 9). These functions will not be directly callable after loading.\n"
     ]
    },
    {
     "name": "stdout",
     "output_type": "stream",
     "text": [
      "INFO:tensorflow:Assets written to: data/models/model_per_epoch/model_coords_03/model_22/assets\n"
     ]
    },
    {
     "name": "stderr",
     "output_type": "stream",
     "text": [
      "INFO:tensorflow:Assets written to: data/models/model_per_epoch/model_coords_03/model_22/assets\n"
     ]
    },
    {
     "name": "stdout",
     "output_type": "stream",
     "text": [
      "Saving prediction to: data/models/model_per_epoch/model_coords_03/model_{}\n"
     ]
    },
    {
     "name": "stderr",
     "output_type": "stream",
     "text": [
      "WARNING:absl:Found untraced functions such as _jit_compiled_convolution_op, _jit_compiled_convolution_op, _jit_compiled_convolution_op, _jit_compiled_convolution_op, _jit_compiled_convolution_op while saving (showing 5 of 9). These functions will not be directly callable after loading.\n"
     ]
    },
    {
     "name": "stdout",
     "output_type": "stream",
     "text": [
      "INFO:tensorflow:Assets written to: data/models/model_per_epoch/model_coords_03/model_23/assets\n"
     ]
    },
    {
     "name": "stderr",
     "output_type": "stream",
     "text": [
      "INFO:tensorflow:Assets written to: data/models/model_per_epoch/model_coords_03/model_23/assets\n"
     ]
    },
    {
     "name": "stdout",
     "output_type": "stream",
     "text": [
      "Saving prediction to: data/models/model_per_epoch/model_coords_03/model_{}\n"
     ]
    },
    {
     "name": "stderr",
     "output_type": "stream",
     "text": [
      "WARNING:absl:Found untraced functions such as _jit_compiled_convolution_op, _jit_compiled_convolution_op, _jit_compiled_convolution_op, _jit_compiled_convolution_op, _jit_compiled_convolution_op while saving (showing 5 of 9). These functions will not be directly callable after loading.\n"
     ]
    },
    {
     "name": "stdout",
     "output_type": "stream",
     "text": [
      "INFO:tensorflow:Assets written to: data/models/model_per_epoch/model_coords_03/model_24/assets\n"
     ]
    },
    {
     "name": "stderr",
     "output_type": "stream",
     "text": [
      "INFO:tensorflow:Assets written to: data/models/model_per_epoch/model_coords_03/model_24/assets\n"
     ]
    },
    {
     "name": "stdout",
     "output_type": "stream",
     "text": [
      "Saving prediction to: data/models/model_per_epoch/model_coords_03/model_{}\n"
     ]
    },
    {
     "name": "stderr",
     "output_type": "stream",
     "text": [
      "WARNING:absl:Found untraced functions such as _jit_compiled_convolution_op, _jit_compiled_convolution_op, _jit_compiled_convolution_op, _jit_compiled_convolution_op, _jit_compiled_convolution_op while saving (showing 5 of 9). These functions will not be directly callable after loading.\n"
     ]
    },
    {
     "name": "stdout",
     "output_type": "stream",
     "text": [
      "INFO:tensorflow:Assets written to: data/models/model_per_epoch/model_coords_03/model_25/assets\n"
     ]
    },
    {
     "name": "stderr",
     "output_type": "stream",
     "text": [
      "INFO:tensorflow:Assets written to: data/models/model_per_epoch/model_coords_03/model_25/assets\n"
     ]
    },
    {
     "name": "stdout",
     "output_type": "stream",
     "text": [
      "Saving prediction to: data/models/model_per_epoch/model_coords_03/model_{}\n"
     ]
    },
    {
     "name": "stderr",
     "output_type": "stream",
     "text": [
      "WARNING:absl:Found untraced functions such as _jit_compiled_convolution_op, _jit_compiled_convolution_op, _jit_compiled_convolution_op, _jit_compiled_convolution_op, _jit_compiled_convolution_op while saving (showing 5 of 9). These functions will not be directly callable after loading.\n"
     ]
    },
    {
     "name": "stdout",
     "output_type": "stream",
     "text": [
      "INFO:tensorflow:Assets written to: data/models/model_per_epoch/model_coords_03/model_26/assets\n"
     ]
    },
    {
     "name": "stderr",
     "output_type": "stream",
     "text": [
      "INFO:tensorflow:Assets written to: data/models/model_per_epoch/model_coords_03/model_26/assets\n"
     ]
    },
    {
     "name": "stdout",
     "output_type": "stream",
     "text": [
      "Saving prediction to: data/models/model_per_epoch/model_coords_03/model_{}\n"
     ]
    },
    {
     "name": "stderr",
     "output_type": "stream",
     "text": [
      "WARNING:absl:Found untraced functions such as _jit_compiled_convolution_op, _jit_compiled_convolution_op, _jit_compiled_convolution_op, _jit_compiled_convolution_op, _jit_compiled_convolution_op while saving (showing 5 of 9). These functions will not be directly callable after loading.\n"
     ]
    },
    {
     "name": "stdout",
     "output_type": "stream",
     "text": [
      "INFO:tensorflow:Assets written to: data/models/model_per_epoch/model_coords_03/model_27/assets\n"
     ]
    },
    {
     "name": "stderr",
     "output_type": "stream",
     "text": [
      "INFO:tensorflow:Assets written to: data/models/model_per_epoch/model_coords_03/model_27/assets\n"
     ]
    },
    {
     "name": "stdout",
     "output_type": "stream",
     "text": [
      "Saving prediction to: data/models/model_per_epoch/model_coords_03/model_{}\n"
     ]
    },
    {
     "name": "stderr",
     "output_type": "stream",
     "text": [
      "WARNING:absl:Found untraced functions such as _jit_compiled_convolution_op, _jit_compiled_convolution_op, _jit_compiled_convolution_op, _jit_compiled_convolution_op, _jit_compiled_convolution_op while saving (showing 5 of 9). These functions will not be directly callable after loading.\n"
     ]
    },
    {
     "name": "stdout",
     "output_type": "stream",
     "text": [
      "INFO:tensorflow:Assets written to: data/models/model_per_epoch/model_coords_03/model_28/assets\n"
     ]
    },
    {
     "name": "stderr",
     "output_type": "stream",
     "text": [
      "INFO:tensorflow:Assets written to: data/models/model_per_epoch/model_coords_03/model_28/assets\n"
     ]
    },
    {
     "name": "stdout",
     "output_type": "stream",
     "text": [
      "Saving prediction to: data/models/model_per_epoch/model_coords_03/model_{}\n"
     ]
    },
    {
     "name": "stderr",
     "output_type": "stream",
     "text": [
      "WARNING:absl:Found untraced functions such as _jit_compiled_convolution_op, _jit_compiled_convolution_op, _jit_compiled_convolution_op, _jit_compiled_convolution_op, _jit_compiled_convolution_op while saving (showing 5 of 9). These functions will not be directly callable after loading.\n"
     ]
    },
    {
     "name": "stdout",
     "output_type": "stream",
     "text": [
      "INFO:tensorflow:Assets written to: data/models/model_per_epoch/model_coords_03/model_29/assets\n"
     ]
    },
    {
     "name": "stderr",
     "output_type": "stream",
     "text": [
      "INFO:tensorflow:Assets written to: data/models/model_per_epoch/model_coords_03/model_29/assets\n"
     ]
    },
    {
     "name": "stdout",
     "output_type": "stream",
     "text": [
      "Saving prediction to: data/models/model_per_epoch/model_coords_03/model_{}\n"
     ]
    },
    {
     "name": "stderr",
     "output_type": "stream",
     "text": [
      "WARNING:absl:Found untraced functions such as _jit_compiled_convolution_op, _jit_compiled_convolution_op, _jit_compiled_convolution_op, _jit_compiled_convolution_op, _jit_compiled_convolution_op while saving (showing 5 of 9). These functions will not be directly callable after loading.\n"
     ]
    },
    {
     "name": "stdout",
     "output_type": "stream",
     "text": [
      "INFO:tensorflow:Assets written to: data/models/model_per_epoch/model_coords_03/model_30/assets\n"
     ]
    },
    {
     "name": "stderr",
     "output_type": "stream",
     "text": [
      "INFO:tensorflow:Assets written to: data/models/model_per_epoch/model_coords_03/model_30/assets\n"
     ]
    },
    {
     "name": "stdout",
     "output_type": "stream",
     "text": [
      "Saving prediction to: data/models/model_per_epoch/model_coords_03/model_{}\n"
     ]
    },
    {
     "name": "stderr",
     "output_type": "stream",
     "text": [
      "WARNING:absl:Found untraced functions such as _jit_compiled_convolution_op, _jit_compiled_convolution_op, _jit_compiled_convolution_op, _jit_compiled_convolution_op, _jit_compiled_convolution_op while saving (showing 5 of 9). These functions will not be directly callable after loading.\n"
     ]
    },
    {
     "name": "stdout",
     "output_type": "stream",
     "text": [
      "INFO:tensorflow:Assets written to: data/models/model_per_epoch/model_coords_03/model_31/assets\n"
     ]
    },
    {
     "name": "stderr",
     "output_type": "stream",
     "text": [
      "INFO:tensorflow:Assets written to: data/models/model_per_epoch/model_coords_03/model_31/assets\n"
     ]
    },
    {
     "name": "stdout",
     "output_type": "stream",
     "text": [
      "Saving prediction to: data/models/model_per_epoch/model_coords_03/model_{}\n"
     ]
    },
    {
     "name": "stderr",
     "output_type": "stream",
     "text": [
      "WARNING:absl:Found untraced functions such as _jit_compiled_convolution_op, _jit_compiled_convolution_op, _jit_compiled_convolution_op, _jit_compiled_convolution_op, _jit_compiled_convolution_op while saving (showing 5 of 9). These functions will not be directly callable after loading.\n"
     ]
    },
    {
     "name": "stdout",
     "output_type": "stream",
     "text": [
      "INFO:tensorflow:Assets written to: data/models/model_per_epoch/model_coords_03/model_32/assets\n"
     ]
    },
    {
     "name": "stderr",
     "output_type": "stream",
     "text": [
      "INFO:tensorflow:Assets written to: data/models/model_per_epoch/model_coords_03/model_32/assets\n"
     ]
    },
    {
     "name": "stdout",
     "output_type": "stream",
     "text": [
      "Saving prediction to: data/models/model_per_epoch/model_coords_03/model_{}\n"
     ]
    },
    {
     "name": "stderr",
     "output_type": "stream",
     "text": [
      "WARNING:absl:Found untraced functions such as _jit_compiled_convolution_op, _jit_compiled_convolution_op, _jit_compiled_convolution_op, _jit_compiled_convolution_op, _jit_compiled_convolution_op while saving (showing 5 of 9). These functions will not be directly callable after loading.\n"
     ]
    },
    {
     "name": "stdout",
     "output_type": "stream",
     "text": [
      "INFO:tensorflow:Assets written to: data/models/model_per_epoch/model_coords_03/model_33/assets\n"
     ]
    },
    {
     "name": "stderr",
     "output_type": "stream",
     "text": [
      "INFO:tensorflow:Assets written to: data/models/model_per_epoch/model_coords_03/model_33/assets\n"
     ]
    },
    {
     "name": "stdout",
     "output_type": "stream",
     "text": [
      "Saving prediction to: data/models/model_per_epoch/model_coords_03/model_{}\n"
     ]
    },
    {
     "name": "stderr",
     "output_type": "stream",
     "text": [
      "WARNING:absl:Found untraced functions such as _jit_compiled_convolution_op, _jit_compiled_convolution_op, _jit_compiled_convolution_op, _jit_compiled_convolution_op, _jit_compiled_convolution_op while saving (showing 5 of 9). These functions will not be directly callable after loading.\n"
     ]
    },
    {
     "name": "stdout",
     "output_type": "stream",
     "text": [
      "INFO:tensorflow:Assets written to: data/models/model_per_epoch/model_coords_03/model_34/assets\n"
     ]
    },
    {
     "name": "stderr",
     "output_type": "stream",
     "text": [
      "INFO:tensorflow:Assets written to: data/models/model_per_epoch/model_coords_03/model_34/assets\n"
     ]
    }
   ],
   "source": [
    "from modules_lib.data import append_vicon_coords\n",
    "from tqdm.keras import TqdmCallback\n",
    "\n",
    "if add_coordinates:\n",
    "    X_train_ext = append_vicon_coords(X_train)\n",
    "    X_test_ext = append_vicon_coords(X_test)\n",
    "else:\n",
    "    X_train_ext = X_train\n",
    "    \n",
    "print('X_train_ext', X_train_ext.shape, 'X_test_ext', X_test_ext.shape)\n",
    "\n",
    "history = model.fit(x=X_train_ext, y=y_train, epochs=epochs,\n",
    "                    batch_size=batch_size,\n",
    "                    validation_data=(X_test_ext, y_test), verbose=0, callbacks=[TqdmCallback(verbose=1), CustomSaver(filepath=model_dir,frequency=1)])\n",
    "\n",
    "# history = model.fit(x=X_train_ext, y=y_train, epochs=epochs,\n",
    "#                     batch_size=batch_size,\n",
    "#                     validation_split=0.075, verbose=0, callbacks=[TqdmCallback(verbose=1), CustomSaver(filepath=model_dir,frequency=1)])"
   ]
  },
  {
   "cell_type": "code",
   "execution_count": 13,
   "metadata": {},
   "outputs": [],
   "source": [
    "# from modules_lib.data import append_vicon_coords\n",
    "# from tqdm.keras import TqdmCallback\n",
    "\n",
    "# if add_coordinates:\n",
    "#     X_train_ext = append_vicon_coords(X_train)\n",
    "# else:\n",
    "#     X_train_ext = X_train\n",
    "    \n",
    "# print('X_train_ext', X_train_ext.shape)\n",
    "\n",
    "# history = model.fit(x=X_train_ext, y=y_train, epochs=epochs,\n",
    "#                     batch_size=batch_size,\n",
    "#                     validation_split=0.08, verbose=0, callbacks=[TqdmCallback(verbose=1)])"
   ]
  },
  {
   "cell_type": "code",
   "execution_count": 14,
   "metadata": {},
   "outputs": [],
   "source": [
    "# from modules_lib.data import append_vicon_coords\n",
    "\n",
    "# if add_coordinates:\n",
    "#     X_train_ext = append_vicon_coords(X_train)\n",
    "# else:\n",
    "#     X_train_ext = X_train\n",
    "    \n",
    "# print('X_train_ext', X_train_ext.shape)\n",
    "# #reduce_lr = tf.keras.callbacks.LearningRateScheduler(lambda x: 1e-3 * 0.9 ** x)\n",
    "# history = model.fit(x=X_train_ext, y=y_train, epochs=epochs,\n",
    "#                     batch_size=batch_size,\n",
    "#                     validation_split=0.10, verbose=1)"
   ]
  },
  {
   "cell_type": "code",
   "execution_count": 15,
   "metadata": {},
   "outputs": [
    {
     "data": {
      "text/plain": [
       "<matplotlib.legend.Legend at 0x7f84bdff91f0>"
      ]
     },
     "execution_count": 15,
     "metadata": {},
     "output_type": "execute_result"
    },
    {
     "data": {
      "image/png": "[encoded data removed]",
      "text/plain": [
       "<Figure size 1296x864 with 1 Axes>"
      ]
     },
     "metadata": {
      "needs_background": "light"
     },
     "output_type": "display_data"
    }
   ],
   "source": [
    "fig = plt.figure(figsize=(18, 12))\n",
    "plt.plot(history.history['loss'], label='loss')\n",
    "plt.plot(history.history['val_loss'], label = 'val_loss')\n",
    "plt.xlabel('Epoch', fontsize=20)\n",
    "plt.xticks(fontsize=20)\n",
    "plt.ylabel('Loss', fontsize=20)\n",
    "plt.yticks(fontsize=20)\n",
    "plt.legend(loc='upper right', fontsize=16)\n",
    "#plt.axhline(-1, color='0.8', ls='--')\n",
    "#plt.show()\n"
   ]
  },
  {
   "cell_type": "code",
   "execution_count": 16,
   "metadata": {},
   "outputs": [],
   "source": [
    "fig.savefig('data/models/loss_model_coords_0008_data_24102022.jpg', dpi=300, transparent=False)"
   ]
  },
  {
   "cell_type": "markdown",
   "metadata": {},
   "source": [
    "### Save Model to file"
   ]
  },
  {
   "cell_type": "code",
   "execution_count": 17,
   "metadata": {},
   "outputs": [
    {
     "name": "stdout",
     "output_type": "stream",
     "text": [
      "Saving prediction to: data/models/model_coords_0000_24102022_random_seed\n"
     ]
    },
    {
     "name": "stderr",
     "output_type": "stream",
     "text": [
      "WARNING:absl:Found untraced functions such as _jit_compiled_convolution_op, _jit_compiled_convolution_op, _jit_compiled_convolution_op, _jit_compiled_convolution_op, _jit_compiled_convolution_op while saving (showing 5 of 9). These functions will not be directly callable after loading.\n"
     ]
    },
    {
     "name": "stdout",
     "output_type": "stream",
     "text": [
      "INFO:tensorflow:Assets written to: data/models/model_coords_0000_24102022_random_seed/assets\n"
     ]
    },
    {
     "name": "stderr",
     "output_type": "stream",
     "text": [
      "INFO:tensorflow:Assets written to: data/models/model_coords_0000_24102022_random_seed/assets\n"
     ]
    }
   ],
   "source": [
    "# -----------------\n",
    "# Define Model Name\n",
    "# -----------------\n",
    "model_file = 'data/models/model_{}_{:04d}_24102022_random_seed'\n",
    "# -----------------\n",
    "\n",
    "#plt.savefig('data/models/loss_model_coords2_0003_l1reg.png')\n",
    "\n",
    "# check if directory needs to be created\n",
    "model_dir = os.path.dirname(model_file.format(model_name, 0))\n",
    "if not os.path.exists(model_dir):\n",
    "    print('Creating Directory {}'.format(model_dir))\n",
    "    os.makedirs(model_dir)\n",
    "\n",
    "for i in range(1000):\n",
    "    model_file_i = model_file.format(model_name, i)\n",
    "    if not os.path.exists(model_file_i):\n",
    "        print('Saving prediction to:', model_file_i)\n",
    "        model.save(model_file_i)\n",
    "        \n",
    "        # save normalization model\n",
    "        meta_file = os.path.join(\n",
    "            model_file_i, 'normalization.txt')\n",
    "        with open(meta_file, \"w\") as text_file:\n",
    "            text_file.write(sensor_norm_file)\n",
    "        \n",
    "        # save meta data\n",
    "        meta_file = os.path.join(\n",
    "            model_file_i, 'meta.pkl')\n",
    "        meta_data = {\n",
    "            'add_coordinates': add_coordinates,\n",
    "            'sensor_norm_file': sensor_norm_file,\n",
    "        }\n",
    "        with open(meta_file, \"wb\") as handle:\n",
    "            pickle.dump(meta_data, handle, protocol=2)\n",
    "        break\n"
   ]
  },
  {
   "cell_type": "markdown",
   "metadata": {},
   "source": [
    "## Evaluate Performance of Model "
   ]
  },
  {
   "cell_type": "markdown",
   "metadata": {},
   "source": [
    "#### Create ModelWrapper Instance"
   ]
  },
  {
   "cell_type": "code",
   "execution_count": 18,
   "metadata": {},
   "outputs": [],
   "source": [
    "# from modules_lib.model import ModelWrapper\n",
    "\n",
    "# model_file_i = 'data/models/model_coords_0000_do_005'\n",
    "\n",
    "# model_wrapper = ModelWrapper(model_file_i)\n"
   ]
  },
  {
   "cell_type": "markdown",
   "metadata": {},
   "source": [
    "#### Run Evaluation"
   ]
  },
  {
   "cell_type": "code",
   "execution_count": 19,
   "metadata": {},
   "outputs": [],
   "source": [
    "# from modules_lib.model import likelihood, postprocess\n",
    "# from modules_lib.data import get_vel_and_acc\n",
    "\n",
    "# for normalized in [True]:\n",
    "#     for run in range(7, 9):\n",
    "#         print('Creating Run {} with normalization {}'.format(\n",
    "#             run, normalized))\n",
    "        \n",
    "#         # get data\n",
    "#         t_data = np.array(t_list[run])\n",
    "#         X_data = np.array(X_list[run])\n",
    "#         y_true = np.array(y_list[run])\n",
    "        \n",
    "#         # limit data and frequency\n",
    "#         num_frames = 100\n",
    "#         start = 0\n",
    "#         every_nth = 2\n",
    "#         t_data = t_data[::every_nth][start:start + num_frames]\n",
    "#         y_true = y_true[::every_nth][start:start + num_frames]\n",
    "#         X_data = X_data[::every_nth][start:start + num_frames]\n",
    "        \n",
    "#         # run ModelWrapper prediction before we alte the\n",
    "#         # data tensors\n",
    "#         mu_wrapper = model_wrapper.predict(\n",
    "#             X_data, t_data, run_post_processing=True)\n",
    "        \n",
    "#         X_data = (X_data - sensor_bias) / sensor_std\n",
    "#         X_data[~np.isfinite(X_data)] = 0\n",
    "#         #X_data, y_true = flip_along_y_axis(X_data, y_true)\n",
    "#         #X_data, y_true = shift_columns(X_data, y_true, n=15)\n",
    "#         X_data = X_data[..., 6:]\n",
    "        \n",
    "#         if add_coordinates:\n",
    "#             X_data = append_vicon_coords(X_data)\n",
    "\n",
    "#         y_pred = model.predict(X_data)\n",
    "\n",
    "#         # undo normalization of y_pred during training\n",
    "#         # y_pred *= 10.\n",
    "        \n",
    "#         mu = y_pred[..., :2]\n",
    "#         sigma = y_pred[..., 2:4]\n",
    "#         r = y_pred[..., 4:]\n",
    "        \n",
    "#         # Run Evaluation\n",
    "#         print('Plain Model Prediction')\n",
    "#         print(np.mean(np.sum(np.sqrt((mu - y_true)**2), axis=1)))\n",
    "#         vel, acc = get_vel_and_acc(mu, t_data)[:2]\n",
    "#         print(np.max(vel), np.max(acc))\n",
    "        \n",
    "#         if False:\n",
    "#             mu = postprocess(mu, sigma, r, t_data, \n",
    "#                              pre_fitting_size=None)\n",
    "\n",
    "#             # Run Evaluation\n",
    "#             print('After Post-Processing')\n",
    "#             print(np.mean(np.sum(np.sqrt((mu - y_true)**2), axis=1)))\n",
    "#             print(np.mean((mu - y_true)**2))\n",
    "#             vel, acc = get_vel_and_acc(mu, t_data)[:2]\n",
    "#             print(np.max(vel), np.max(acc))\n",
    "        \n",
    "#         # Run Evaluation\n",
    "#         print('Model Wrapper Class')\n",
    "#         print(np.mean(np.sum(np.sqrt((mu_wrapper - y_true)**2), axis=1)))\n",
    "#         print(np.mean((mu_wrapper - y_true)**2))\n",
    "#         vel, acc = get_vel_and_acc(mu_wrapper, t_data)[:2]\n",
    "#         print(np.max(vel), np.max(acc))\n",
    "        \n",
    "#         if False:\n",
    "#             create_complete_gif2(\n",
    "#                 run, normalized=normalized, num_frames=num_frames,\n",
    "#                 y_pred=mu,\n",
    "#             )"
   ]
  },
  {
   "cell_type": "code",
   "execution_count": 20,
   "metadata": {},
   "outputs": [],
   "source": [
    "# #0.12232663187172524\n",
    "# #0.1542695253008115\n",
    "\n",
    "# # get velocity and acceleration\n",
    "# vel_abs, acc_abs, acc_parallel, acc_perp = \\\n",
    "#     get_vel_and_acc(mu_wrapper, t_data)\n",
    "\n",
    "# plt.figure(figsize=(24, 4))\n",
    "# plt.plot(vel_abs, label='|Velocity|')\n",
    "# plt.plot(acc_abs, label='|Acceleration|')\n",
    "# plt.axhline(np.max(vel_abs), ls='--', color='0.6', \n",
    "#            label='Max Vel.: {:3.3f}'.format(np.max(vel_abs)))\n",
    "# plt.axhline(np.max(acc_abs), ls='--', color='0.6', \n",
    "#            label='Max Acc.: {:3.3f}'.format(np.max(acc_abs)))\n",
    "# plt.axhline(.707, ls='-', color='.8', label='Reference: 707')\n",
    "# plt.axhline(.717, ls='-', color='.8', label='Reference: 717')\n",
    "# plt.legend()\n",
    "# plt.show()"
   ]
  },
  {
   "cell_type": "markdown",
   "metadata": {},
   "source": [
    "### Run Prediction on Test Data"
   ]
  },
  {
   "cell_type": "code",
   "execution_count": 21,
   "metadata": {},
   "outputs": [],
   "source": [
    "# from modules_lib.model import ModelWrapper\n",
    "# %load_ext autoreload\n",
    "# %autoreload 2\n",
    "# import sys\n",
    "# import os\n",
    "# # Laptop GPU is busy with rendering screen ...\n",
    "# os.environ[\"CUDA_VISIBLE_DEVICES\"] = \"-1\"  \n",
    "# import pickle\n",
    "# import glob\n",
    "# import pandas as pd\n",
    "# import numpy as np\n",
    "# from tqdm.notebook import tqdm\n",
    "# from matplotlib import pyplot as plt\n",
    "# from matplotlib.animation import FuncAnimation\n",
    "\n",
    "# home_path = '/home/irfan-flw/6GEM/Coding/Vicon_Pos_Converter/'\n",
    "# os.chdir(home_path)\n",
    "\n",
    "# #model_file_i = 'data/models/model_augmented_0000_augmented'\n",
    "# model_file_i = 'data/models/model_coords_0000_do_005' # model_coords_0000_do_005 model_coords_0002 model_coords_0000_10epoch\n",
    "\n",
    "# model_wrapper = ModelWrapper(model_file_i)\n"
   ]
  },
  {
   "cell_type": "code",
   "execution_count": 22,
   "metadata": {},
   "outputs": [],
   "source": [
    "# from modules_lib.data import KEYS as keys\n",
    "# from modules_lib.data import get_data_from_data_frame\n",
    "# from modules_lib.data import read_data\n",
    "\n",
    "# #test_file = '../Dataset_sensor_floor/Dataset_Final/02092022/test/test.csv'\n",
    "\n",
    "# path_dataset = '/media/irfan-flw/DATA/Arbeit/6GEM/Program_Development/6GEM_Dataset/Dataset_Sensor_Floor_Final/30092022/test/'\n",
    "\n",
    "# os.chdir(path_dataset)\n",
    "\n",
    "# frames_test, y_test, t_test, X_test = read_data('test_2_7.csv')"
   ]
  },
  {
   "cell_type": "code",
   "execution_count": 23,
   "metadata": {},
   "outputs": [],
   "source": [
    "# y_test[100]"
   ]
  },
  {
   "cell_type": "code",
   "execution_count": 24,
   "metadata": {},
   "outputs": [],
   "source": [
    "# dt = np.diff(t_test, axis=0)\n",
    "# indices = np.arange(len(dt)) + 1\n",
    "# mask = np.abs(dt[:, 0]) > 3\n",
    "# break_indices = np.append(indices[mask], len(t_test))\n",
    "\n",
    "# plt.title('Test Splitting')\n",
    "# plt.plot(t_test)\n",
    "# for b in break_indices:\n",
    "#     plt.axvline(b, color='0.8', ls='--')\n",
    "# #plt.xlim(break_indices[1]-2, break_indices[1]+2)\n",
    "# plt.ylabel('Time [s]')\n",
    "# plt.xlabel('Frame Number')\n",
    "# plt.show()\n",
    "\n",
    "# plt.title('Test Splitting')\n",
    "# plt.plot(dt)\n",
    "# for b in break_indices:\n",
    "#     plt.axvline(b, color='0.8', ls='--')\n",
    "# plt.ylabel('Delta Time [s]')\n",
    "# plt.xlabel('Frame Number')\n",
    "# plt.show()\n"
   ]
  },
  {
   "cell_type": "code",
   "execution_count": 25,
   "metadata": {},
   "outputs": [],
   "source": [
    "# frames_test_list = []\n",
    "# y_test_list = []\n",
    "# t_test_list = []\n",
    "# X_test_list = []\n",
    "\n",
    "# last_index = 0\n",
    "# for b in break_indices:\n",
    "#     y_test_list.append(y_test[last_index:b])\n",
    "#     t_test_list.append(t_test[last_index:b])\n",
    "#     X_test_list.append(X_test[last_index:b])\n",
    "#     frames_test_list.append(frames_test[last_index:b])\n",
    "    \n",
    "#     plt.hist(np.diff(t_test_list[-1], axis=0), bins=100,\n",
    "#              density=True, histtype='step')\n",
    "#     print(np.sum(np.diff(t_test_list[-1], axis=0)>3),\n",
    "#           len(t_test_list[-1]))\n",
    "    \n",
    "#     last_index = b\n",
    "\n",
    "# assert len(X_test) == np.sum([len(t) for t in X_test_list])\n",
    "\n",
    "# plt.xlabel('Delta Time [s]')\n",
    "# plt.show()"
   ]
  },
  {
   "cell_type": "code",
   "execution_count": 26,
   "metadata": {},
   "outputs": [],
   "source": [
    "# X_test.shape"
   ]
  },
  {
   "cell_type": "code",
   "execution_count": 27,
   "metadata": {},
   "outputs": [],
   "source": [
    "# X_input_test = np.reshape(X_test[100], [-1, 23, 15, 10])\n",
    "# t_input_test = np.reshape(t_test[100], [-1, 1])\n",
    "# mu = model_wrapper.predict(X_input_test, t_input_test, run_post_processing=True, check_data=True)\n",
    "# #mu_iter = model_wrapper.predict_iteratively(X_test[900:1150], t_test[900:1150],run_post_processing=True, check_data=True)\n",
    "# #mu = model_wrapper.predict(X_input_test, t_input_test)\n",
    "# print(mu)"
   ]
  },
  {
   "cell_type": "code",
   "execution_count": 28,
   "metadata": {},
   "outputs": [],
   "source": [
    "# #test predict\n",
    "# #missing nodes: 7-13, 20-9, 21-6, 23-5\n",
    "# #X_input_test = np.reshape(X_test[750], [-1, 23, 15, 10])\n",
    "# #t_input_test = np.reshape(t_test[750], [-1, 1])\n",
    "# mu = model_wrapper.predict(X_test, t_test,run_post_processing=True, check_data=True)\n",
    "# #mu_iter = model_wrapper.predict_iteratively(X_test[900:1150], t_test[900:1150],run_post_processing=True, check_data=True)\n",
    "# #mu = model_wrapper.predict(X_input_test, t_input_test)\n",
    "# print(mu)\n"
   ]
  },
  {
   "cell_type": "code",
   "execution_count": 29,
   "metadata": {},
   "outputs": [],
   "source": [
    "# import seaborn as sns\n",
    "\n",
    "# rssi_mat = X_test[450,:,:,9]\n",
    "# fig = plt.figure(figsize=(14, 12))\n",
    "          \n",
    "# ax1 = fig.add_subplot(211)\n",
    "# #ax1 = plt.subplots(figsize=(10,7))\n",
    "# ax1 = sns.heatmap(rssi_mat, annot=False, cbar_kws={'label': 'RSSI'}, cmap=\"YlGnBu\")\n",
    "# #ax1 = sns.heatmap(sensor_data[:,:,9], annot=False, cbar_kws={'label': 'RSSI'}, cmap=\"YlGnBu\")\n",
    "# ax1.figure.axes[-1].yaxis.label.set_size(14)\n",
    "       \n",
    "# plt.title(\"RSSI Heatmap\", fontsize = 16)\n",
    "# plt.ylabel(\"Node ID\", fontsize = 16)\n",
    "# plt.xlabel(\"Strip ID\", fontsize = 16)\n",
    "\n",
    "# ax2 = fig.add_subplot(212)\n",
    "# plt.xlim(-11.185, 10.185)\n",
    "# plt.ylim(-6.425, 7.575)\n",
    "# plt.title(\"Trajectory of robot\", fontsize = 16)\n",
    "# plt.ylabel(\"Y(t)\", fontsize = 16)\n",
    "# plt.xlabel(\"X(t)\", fontsize = 16)\n",
    "# plt.plot(y_test[:,0], y_test[:,1], label='Ground Truth', color='red')"
   ]
  },
  {
   "cell_type": "markdown",
   "metadata": {},
   "source": [
    "***Predict the grid with augmentation***"
   ]
  },
  {
   "cell_type": "code",
   "execution_count": 30,
   "metadata": {},
   "outputs": [],
   "source": [
    "# print(mu[:5,0],mu[:5,1])"
   ]
  },
  {
   "cell_type": "code",
   "execution_count": 31,
   "metadata": {},
   "outputs": [],
   "source": [
    "# def find_nearest(array, value):\n",
    "#     array = np.asarray(array)\n",
    "#     idx = (np.abs(array - value)).argmin()\n",
    "#     return idx\n",
    "\n",
    "# def convert_to_cell(x, y):\n",
    "#     '''\n",
    "#     This function takes a measurement in origin frame (x,y), convert it\n",
    "#     to a cell number and return it as (strip_id, node_id)\n",
    "#     '''\n",
    "#     def translate(value, leftMin, leftMax, rightMin, rightMax):\n",
    "#         # Figure out how 'wide' each range is\n",
    "#         leftSpan = leftMax - leftMin\n",
    "#         rightSpan = rightMax - rightMin\n",
    "\n",
    "#         # Convert the left range into a 0-1 range (float)\n",
    "#         valueScaled = 1.*(value - leftMin) / leftSpan\n",
    "\n",
    "#         # Convert the 0-1 range into a value in the right range.\n",
    "#         return rightMin + (valueScaled * rightSpan)\n",
    "\n",
    "#     predict_cell = np.zeros([len(y), 2])\n",
    "#     predict_cell[:, 0] = x + 11.185\n",
    "#     predict_cell[:, 1] = translate(y, -15+7.575, 7.575, 15, 0)\n",
    "#     predict_cell = np.round(predict_cell)\n",
    "\n",
    "#     return predict_cell\n",
    "\n",
    "# def convert_cell_to_vicon_coord(predict_cell):\n",
    "#     vicon_grid_coord = np.zeros([len(predict_cell), 2])\n",
    "#     print(len(predict_cell))\n",
    "#     for i in range(len(predict_cell)):\n",
    "#         mask = np.logical_and( df_vicon['strip_id'] == cell[i,0], df_vicon['node_id'] == cell[i,1])\n",
    "#         print(i, cell[i,0], cell[i,1], mask)\n",
    "#         x_coord = df_vicon.vicon_x[mask].values\n",
    "#         y_coord = df_vicon.vicon_y[mask].values\n",
    "#         print(x_coord, y_coord)\n",
    "#         vicon_grid_coord[i, 0] = x_coord[0]\n",
    "#         vicon_grid_coord[i, 1] = y_coord[0]\n",
    "#         #vicon_grid_coord[0].append(x_coord[0])\n",
    "#         #vicon_grid_coord[1].append(y_coord[0])\n",
    "#     return vicon_grid_coord\n",
    "        \n",
    "    \n",
    "\n",
    "# # def shift_columns(X, y, n=4, keep_unshifted=True):\n",
    "\n",
    "# #     # get current cell indices\n",
    "# #     strip_id = convert_to_cell(y[:,0], y[:,1])[:, 0]\n",
    "    \n",
    "# #     # get events where there is enough space left and right\n",
    "# #     mask = np.logical_and(strip_id > n, strip_id < 22-n)\n",
    "    \n",
    "# #     if not keep_unshifted:\n",
    "# #         #X = np.array(X[mask])\n",
    "# #         y = np.array(y[mask])\n",
    "# #         strip_id = strip_id[mask]\n",
    "\n",
    "# #     # compute maximum allowed shift left or right\n",
    "# #     shift_left = np.clip(strip_id - n, 0, float('inf'))\n",
    "# #     shift_right = np.clip(22 - strip_id - n, 0, float('inf'))\n",
    "\n",
    "# #     # sample random shift\n",
    "# #     # Note: shift_right won't get sampled, but we use 0 \n",
    "# #     # for that\n",
    "# #     shifts = np.random.randint(\n",
    "# #         low=-shift_left, \n",
    "# #         high=np.clip(shift_right, 1, float('inf')),\n",
    "# #     )\n",
    "# #     mask_z = shifts == 0\n",
    "# #     shifts[mask_z] = shift_right[mask_z]\n",
    "# #     mask = shifts == 0\n",
    "# #     shifts[mask_z] = shift_left[mask_z]\n",
    "    \n",
    "# #     if keep_unshifted:\n",
    "# #         shifts[mask] = 0\n",
    "    \n",
    "# #     # shift data\n",
    "# #     #X = np.roll(X, shifts, axis=1)\n",
    "# #     y[:, 0] += shifts\n",
    "    \n",
    "# #     return X, y\n",
    "\n",
    "# cell = convert_to_cell(mu[:,0],mu[:,1])\n",
    "# vicon_grids = convert_cell_to_vicon_coord(cell)\n",
    "\n",
    "# print(cell,mu[350:400,:])\n",
    "# print(vicon_grids)"
   ]
  },
  {
   "cell_type": "code",
   "execution_count": 32,
   "metadata": {},
   "outputs": [],
   "source": [
    "# df_vicon.vicon_x[mask]"
   ]
  },
  {
   "cell_type": "code",
   "execution_count": 33,
   "metadata": {},
   "outputs": [],
   "source": [
    "# mask = np.logical_and( df_vicon['strip_id'] == cell[0,0], df_vicon['node_id'] == cell[0,1])\n",
    "# print(mask)\n",
    "# x_coord = df_vicon.vicon_x[mask].values\n",
    "# y_coord = df_vicon.vicon_y[mask].values\n",
    "\n",
    "# # df_cell = df_vicon.index[(df_vicon['strip_id'] == cell[0,0]) & (df_vicon['node_id'] == cell[0,1])]\n",
    "# # df_cell\n",
    "# # x_coord = df_vicon.iat[df_cell,2]\n",
    "# # y_coord = df_vicon.iat[df_cell,3]\n",
    "# print(x_coord[0], y_coord[0])"
   ]
  },
  {
   "cell_type": "code",
   "execution_count": 34,
   "metadata": {},
   "outputs": [],
   "source": [
    "# from turtle import color\n",
    "# from matplotlib import pyplot as plt\n",
    "\n",
    "# fig = plt.figure(figsize=(20, 12))\n",
    "\n",
    "# plt.plot(y_test[:,0], y_test[:,1], label='Ground Truth', color='red')\n",
    "# #plt.scatter(mu[:,0], mu[:,1], label = 'Prediction', color='green')\n",
    "# plt.plot(mu[:,0], mu[:,1], label = 'Prediction', color='green')\n",
    "# plt.scatter(df_vicon.vicon_x, df_vicon.vicon_y, label = 'Node Grids')\n",
    "# #plt.scatter(cell[:,0], cell[:,1], label = 'Predicted Grids', color='orange')\n",
    "# #plt.plot(mu_iter[:,0], mu_iter[:,1], label = 'Prediction_Iter')\n",
    "# # plt.xlim(-11.185, 10.185)\n",
    "# # plt.ylim(-6.425, 7.575)\n",
    "# plt.xlabel('X(t)')\n",
    "# plt.ylabel('Y(t)')\n",
    "# plt.legend(loc='upper right')\n",
    "# plt.title('Prediction vs Ground Truth')"
   ]
  },
  {
   "cell_type": "code",
   "execution_count": 35,
   "metadata": {},
   "outputs": [],
   "source": [
    "# from turtle import color\n",
    "# from matplotlib import pyplot as plt\n",
    "\n",
    "# fig = plt.figure(figsize=(20, 12))\n",
    "\n",
    "# ax1 = fig.add_subplot(211) #(row, column, pos)"
   ]
  },
  {
   "cell_type": "code",
   "execution_count": 36,
   "metadata": {},
   "outputs": [],
   "source": [
    "# home_path = '/home/irfan-flw/6GEM/Coding/Vicon_Pos_Converter/'\n",
    "# os.chdir(home_path)\n",
    "\n",
    "# fig.savefig('data/models/predict_model_coords_data_30092022_with_do.jpg', dpi=300, transparent=False)"
   ]
  },
  {
   "cell_type": "code",
   "execution_count": 37,
   "metadata": {},
   "outputs": [],
   "source": [
    "# num_frames = 100\n",
    "# use_wrapper = True\n",
    "\n",
    "# y_test_pred = []\n",
    "\n",
    "# for split in tqdm(range(len(X_test_list))):\n",
    "#     X_test_i = np.array(X_test_list[split])\n",
    "#     t_test_i = np.array(t_test_list[split])\n",
    "#     y_test_i = np.array(y_test_list[split])\n",
    "    \n",
    "#     if use_wrapper:\n",
    "#         mu = model_wrapper.predict(X_test_i, t_test_i)\n",
    "#     else:\n",
    "\n",
    "#         X_test_norm_i = np.array((X_test_i - sensor_bias) / sensor_std)\n",
    "#         X_test_norm_i[~np.isfinite(X_test_norm_i)] = 0\n",
    "#         X_test_norm_i = X_test_norm_i[..., 6:]\n",
    "\n",
    "#         y_test_pred_i = model.predict(X_test_norm_i)\n",
    "\n",
    "#         mu = y_test_pred_i[..., :2]\n",
    "#         sigma = y_test_pred_i[..., 2:4]\n",
    "#         r = y_test_pred_i[..., 4:]\n",
    "\n",
    "#         # Run Evaluation\n",
    "#         vel, acc = get_vel_and_acc(mu, t_test_i)[:2]\n",
    "#         print(np.max(vel), np.max(acc))\n",
    "\n",
    "#         mu = postprocess(mu, sigma, r, t_test_i, \n",
    "#                          pre_fitting_size=None)\n",
    "\n",
    "#     # Run Evaluation\n",
    "#     vel, acc = get_vel_and_acc(mu, t_test_i)[:2]\n",
    "#     print(np.max(vel), np.max(acc))\n",
    "    \n",
    "#     # append reconstructed positions to list\n",
    "#     y_test_pred.append(mu)\n",
    "    \n",
    "    \n",
    "# y_test_pred = np.concatenate(y_test_pred, axis=0)\n",
    "\n",
    "# if False:\n",
    "#     create_complete_gif2(\n",
    "#         run, \n",
    "#         file_name='plots/gif_test_{norm}.gif',\n",
    "#         normalized=True, num_frames=num_frames,\n",
    "#         y_pred=y_test_pred,\n",
    "#     )"
   ]
  },
  {
   "cell_type": "code",
   "execution_count": 38,
   "metadata": {},
   "outputs": [],
   "source": [
    "# print(len(y_test_pred), len(X_test))\n",
    "# assert len(y_test_pred) == len(X_test), len(y_test_pred)\n",
    "\n",
    "# data_dict = {\n",
    "#     'frame_number': range(len(y_test_pred)),\n",
    "#     'vicon_x': y_test_pred[:, 0],\n",
    "#     'vicon_y': y_test_pred[:, 1],\n",
    "# }\n",
    "\n",
    "# df_test_pred = pd.DataFrame(data_dict)\n",
    "# df_test_pred = df_test_pred.set_index('frame_number')\n",
    "# print(df_test_pred.head())\n",
    "\n",
    "# test_pred_file = 'data/test_submission_{}_{:03d}.csv'\n",
    "# for i in range(1000):\n",
    "#     test_pred_file_i = test_pred_file.format(\n",
    "#         os.path.basename(model_file_i), i)\n",
    "#     if not os.path.exists(test_pred_file_i):\n",
    "#         print('Saving prediction to:', test_pred_file_i)\n",
    "#         df_test_pred.to_csv(test_pred_file_i)\n",
    "#         break"
   ]
  },
  {
   "cell_type": "markdown",
   "metadata": {},
   "source": [
    "#### Check Resolution"
   ]
  },
  {
   "cell_type": "code",
   "execution_count": 39,
   "metadata": {},
   "outputs": [],
   "source": [
    "# t_test_pred = []\n",
    "# for split in tqdm(range(len(X_test_list))):\n",
    "#     t_test_i = np.array(t_test_list[split])\n",
    "#     t_test_pred.append(t_test_i)\n",
    "# t_test_pred = np.concatenate(t_test_pred, axis=0)\n",
    "\n",
    "# # get velocity and acceleration\n",
    "# vel_abs, acc_abs, acc_parallel, acc_perp = \\\n",
    "#     get_vel_and_acc(y_test_pred, t_test_pred)\n",
    "\n",
    "# plt.figure(figsize=(64, 4))\n",
    "# plt.plot(vel_abs, label='|Velocity|')\n",
    "# plt.plot(acc_abs, label='|Acceleration|')\n",
    "# plt.axhline(np.max(vel_abs), ls='--', color='0.6', \n",
    "#            label='Max Vel.: {:3.3f}'.format(np.max(vel_abs)))\n",
    "# plt.axhline(np.max(acc_abs), ls='--', color='0.6', \n",
    "#            label='Max Acc.: {:3.3f}'.format(np.max(acc_abs)))\n",
    "# plt.axhline(.707, ls='-', color='.8', label='Reference: 707')\n",
    "# plt.axhline(.717, ls='-', color='.8', label='Reference: 717')\n",
    "# plt.legend()\n",
    "# plt.show()\n",
    "    "
   ]
  },
  {
   "cell_type": "code",
   "execution_count": 40,
   "metadata": {},
   "outputs": [],
   "source": [
    "# create_y_gif(\n",
    "#     y_pred=y_test_pred[::5], \n",
    "#     y_true=None, \n",
    "#     file_name='plots/gif_y_prediction.gif')"
   ]
  }
 ],
 "metadata": {
  "kernelspec": {
   "display_name": "Python 3",
   "language": "python",
   "name": "python3"
  },
  "language_info": {
   "codemirror_mode": {
    "name": "ipython",
    "version": 3
   },
   "file_extension": ".py",
   "mimetype": "text/x-python",
   "name": "python",
   "nbconvert_exporter": "python",
   "pygments_lexer": "ipython3",
   "version": "3.8.10 (default, Jun 22 2022, 20:18:18) \n[GCC 9.4.0]"
  },
  "orig_nbformat": 4,
  "vscode": {
   "interpreter": {
    "hash": "767d51c1340bd893661ea55ea3124f6de3c7a262a8b4abca0554b478b1e2ff90"
   }
  }
 },
 "nbformat": 4,
 "nbformat_minor": 2
}
